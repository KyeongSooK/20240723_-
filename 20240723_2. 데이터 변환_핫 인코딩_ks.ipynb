{
 "cells": [
  {
   "cell_type": "code",
   "execution_count": null,
   "id": "97942346-3871-4498-bdad-86c9c0b45dbb",
   "metadata": {},
   "outputs": [],
   "source": [
    "## 2. 데이터 변환"
   ]
  },
  {
   "cell_type": "code",
   "execution_count": 1,
   "id": "5443f0f3-53fb-4369-aff5-b91a87e554f6",
   "metadata": {
    "execution": {
     "iopub.execute_input": "2024-07-23T07:12:55.903427Z",
     "iopub.status.busy": "2024-07-23T07:12:55.903427Z",
     "iopub.status.idle": "2024-07-23T07:12:56.155600Z",
     "shell.execute_reply": "2024-07-23T07:12:56.155600Z",
     "shell.execute_reply.started": "2024-07-23T07:12:55.903427Z"
    }
   },
   "outputs": [],
   "source": [
    "import pandas as pd"
   ]
  },
  {
   "cell_type": "code",
   "execution_count": 2,
   "id": "ea06f0fe-c1ee-4f26-85bc-b31f4a4114bc",
   "metadata": {
    "execution": {
     "iopub.execute_input": "2024-07-23T07:12:59.631004Z",
     "iopub.status.busy": "2024-07-23T07:12:59.630004Z",
     "iopub.status.idle": "2024-07-23T07:12:59.658512Z",
     "shell.execute_reply": "2024-07-23T07:12:59.658512Z",
     "shell.execute_reply.started": "2024-07-23T07:12:59.631004Z"
    }
   },
   "outputs": [],
   "source": [
    "df = pd.read_csv('./activity_sample.csv')"
   ]
  },
  {
   "cell_type": "code",
   "execution_count": null,
   "id": "3a77628d-8f60-4980-b1ee-b7f51f30151a",
   "metadata": {},
   "outputs": [],
   "source": [
    "### 1. 특성의 값이 1개 고정으로 되있는 열 삭제.\n",
    "##### >> 특성 값이 하나로 되있는 값은 결과에 의미 없다고 판단.\n",
    "### Unnamed: 0 의미없는 SEQ 라서 삭제.\n",
    "### memberstatus 멤버상태 는 전체 정회원이라 의미없음\n",
    "### grade 학년은 5학년 기준인거 확인해서 삭제.\n",
    "### timestamp ID마다 해당 학습 중 행동이 발생한 시간은 들어간 시간에 예측하는데 필요없다고 판단 삭제\n",
    "\n",
    "### 학습순서를 의미를 둘려면 밑에 두개 필요 하지만 순서가 이탈하는데랑 여부가 없다판단.\n",
    "### learning_action_seq 학습중행동순서도 어느시점에 이탈할지 여부랑은 관계없다고 판단 삭제\n",
    "### learning_seq\n",
    "# 1차 열 삭제 \n",
    "### "
   ]
  },
  {
   "cell_type": "code",
   "execution_count": 11,
   "id": "f76c3d18-c27c-4151-b668-790ef7c7e2db",
   "metadata": {
    "collapsed": true,
    "execution": {
     "iopub.execute_input": "2024-07-23T07:28:45.666132Z",
     "iopub.status.busy": "2024-07-23T07:28:45.666132Z",
     "iopub.status.idle": "2024-07-23T07:28:45.685131Z",
     "shell.execute_reply": "2024-07-23T07:28:45.685131Z",
     "shell.execute_reply.started": "2024-07-23T07:28:45.666132Z"
    },
    "jupyter": {
     "outputs_hidden": true
    },
    "scrolled": true
   },
   "outputs": [
    {
     "data": {
      "text/plain": [
       "0       44\n",
       "1       44\n",
       "2       44\n",
       "3       44\n",
       "4       44\n",
       "        ..\n",
       "6471    44\n",
       "6472    44\n",
       "6473    44\n",
       "6474    44\n",
       "6475    44\n",
       "Name: memberstatus, Length: 6476, dtype: int64"
      ]
     },
     "execution_count": 11,
     "metadata": {},
     "output_type": "execute_result"
    }
   ],
   "source": [
    "# 결측치 없는거 재확인\n",
    "df['memberstatus','grade'].dropna()"
   ]
  },
  {
   "cell_type": "code",
   "execution_count": 14,
   "id": "f673f7e5-6957-4319-8ca3-4a6dcdfd83a2",
   "metadata": {
    "execution": {
     "iopub.execute_input": "2024-07-23T07:45:24.349518Z",
     "iopub.status.busy": "2024-07-23T07:45:24.349518Z",
     "iopub.status.idle": "2024-07-23T07:45:24.358468Z",
     "shell.execute_reply": "2024-07-23T07:45:24.358468Z",
     "shell.execute_reply.started": "2024-07-23T07:45:24.349518Z"
    }
   },
   "outputs": [],
   "source": [
    "# 열 삭제\n",
    "df_1D = df.drop(['Unnamed: 0', 'memberstatus', 'grade', 'timestamp', 'learning_seq', 'learning_action_seq'], axis=1)"
   ]
  },
  {
   "cell_type": "code",
   "execution_count": 15,
   "id": "0cd7a230-8ca7-4da4-b5a1-e17fe881a358",
   "metadata": {
    "execution": {
     "iopub.execute_input": "2024-07-23T07:45:31.930366Z",
     "iopub.status.busy": "2024-07-23T07:45:31.930366Z",
     "iopub.status.idle": "2024-07-23T07:45:31.953199Z",
     "shell.execute_reply": "2024-07-23T07:45:31.952199Z",
     "shell.execute_reply.started": "2024-07-23T07:45:31.930366Z"
    },
    "scrolled": true
   },
   "outputs": [
    {
     "data": {
      "text/html": [
       "<div>\n",
       "<style scoped>\n",
       "    .dataframe tbody tr th:only-of-type {\n",
       "        vertical-align: middle;\n",
       "    }\n",
       "\n",
       "    .dataframe tbody tr th {\n",
       "        vertical-align: top;\n",
       "    }\n",
       "\n",
       "    .dataframe thead th {\n",
       "        text-align: right;\n",
       "    }\n",
       "</style>\n",
       "<table border=\"1\" class=\"dataframe\">\n",
       "  <thead>\n",
       "    <tr style=\"text-align: right;\">\n",
       "      <th></th>\n",
       "      <th>userid</th>\n",
       "      <th>mcode</th>\n",
       "      <th>event_type</th>\n",
       "      <th>action</th>\n",
       "      <th>object_type</th>\n",
       "      <th>gender</th>\n",
       "      <th>memberstatus_change</th>\n",
       "      <th>day_01_status</th>\n",
       "      <th>day_02_status</th>\n",
       "      <th>day_03_status</th>\n",
       "      <th>...</th>\n",
       "      <th>day_23_status</th>\n",
       "      <th>day_24_status</th>\n",
       "      <th>day_25_status</th>\n",
       "      <th>day_26_status</th>\n",
       "      <th>day_27_status</th>\n",
       "      <th>day_28_status</th>\n",
       "      <th>day_29_status</th>\n",
       "      <th>day_30_status</th>\n",
       "      <th>day_31_status</th>\n",
       "      <th>change_date</th>\n",
       "    </tr>\n",
       "  </thead>\n",
       "  <tbody>\n",
       "    <tr>\n",
       "      <th>0</th>\n",
       "      <td>01cf7916-eb98-4d30-8c81-dd52aa5be060</td>\n",
       "      <td>T0TE52U01003</td>\n",
       "      <td>ViewEvent</td>\n",
       "      <td>Viewed</td>\n",
       "      <td>DigitalResource</td>\n",
       "      <td>M</td>\n",
       "      <td>11,44</td>\n",
       "      <td>11</td>\n",
       "      <td>11</td>\n",
       "      <td>11</td>\n",
       "      <td>...</td>\n",
       "      <td>11</td>\n",
       "      <td>11</td>\n",
       "      <td>44</td>\n",
       "      <td>44</td>\n",
       "      <td>44</td>\n",
       "      <td>44</td>\n",
       "      <td>44</td>\n",
       "      <td>44</td>\n",
       "      <td>999</td>\n",
       "      <td>25</td>\n",
       "    </tr>\n",
       "    <tr>\n",
       "      <th>1</th>\n",
       "      <td>01cf7916-eb98-4d30-8c81-dd52aa5be060</td>\n",
       "      <td>T0TE52U01003</td>\n",
       "      <td>NavigationEvent</td>\n",
       "      <td>NavigatedTo</td>\n",
       "      <td>DigitalResource</td>\n",
       "      <td>M</td>\n",
       "      <td>11,44</td>\n",
       "      <td>11</td>\n",
       "      <td>11</td>\n",
       "      <td>11</td>\n",
       "      <td>...</td>\n",
       "      <td>11</td>\n",
       "      <td>11</td>\n",
       "      <td>44</td>\n",
       "      <td>44</td>\n",
       "      <td>44</td>\n",
       "      <td>44</td>\n",
       "      <td>44</td>\n",
       "      <td>44</td>\n",
       "      <td>999</td>\n",
       "      <td>25</td>\n",
       "    </tr>\n",
       "    <tr>\n",
       "      <th>2</th>\n",
       "      <td>01cf7916-eb98-4d30-8c81-dd52aa5be060</td>\n",
       "      <td>T0TE52U01003</td>\n",
       "      <td>ViewEvent</td>\n",
       "      <td>Viewed</td>\n",
       "      <td>DigitalResource</td>\n",
       "      <td>M</td>\n",
       "      <td>11,44</td>\n",
       "      <td>11</td>\n",
       "      <td>11</td>\n",
       "      <td>11</td>\n",
       "      <td>...</td>\n",
       "      <td>11</td>\n",
       "      <td>11</td>\n",
       "      <td>44</td>\n",
       "      <td>44</td>\n",
       "      <td>44</td>\n",
       "      <td>44</td>\n",
       "      <td>44</td>\n",
       "      <td>44</td>\n",
       "      <td>999</td>\n",
       "      <td>25</td>\n",
       "    </tr>\n",
       "    <tr>\n",
       "      <th>3</th>\n",
       "      <td>01cf7916-eb98-4d30-8c81-dd52aa5be060</td>\n",
       "      <td>T0TE52U01003</td>\n",
       "      <td>NavigationEvent</td>\n",
       "      <td>NavigatedTo</td>\n",
       "      <td>DigitalResource</td>\n",
       "      <td>M</td>\n",
       "      <td>11,44</td>\n",
       "      <td>11</td>\n",
       "      <td>11</td>\n",
       "      <td>11</td>\n",
       "      <td>...</td>\n",
       "      <td>11</td>\n",
       "      <td>11</td>\n",
       "      <td>44</td>\n",
       "      <td>44</td>\n",
       "      <td>44</td>\n",
       "      <td>44</td>\n",
       "      <td>44</td>\n",
       "      <td>44</td>\n",
       "      <td>999</td>\n",
       "      <td>25</td>\n",
       "    </tr>\n",
       "    <tr>\n",
       "      <th>4</th>\n",
       "      <td>01cf7916-eb98-4d30-8c81-dd52aa5be060</td>\n",
       "      <td>T0TE52U01003</td>\n",
       "      <td>ViewEvent</td>\n",
       "      <td>Viewed</td>\n",
       "      <td>DigitalResource</td>\n",
       "      <td>M</td>\n",
       "      <td>11,44</td>\n",
       "      <td>11</td>\n",
       "      <td>11</td>\n",
       "      <td>11</td>\n",
       "      <td>...</td>\n",
       "      <td>11</td>\n",
       "      <td>11</td>\n",
       "      <td>44</td>\n",
       "      <td>44</td>\n",
       "      <td>44</td>\n",
       "      <td>44</td>\n",
       "      <td>44</td>\n",
       "      <td>44</td>\n",
       "      <td>999</td>\n",
       "      <td>25</td>\n",
       "    </tr>\n",
       "  </tbody>\n",
       "</table>\n",
       "<p>5 rows × 39 columns</p>\n",
       "</div>"
      ],
      "text/plain": [
       "                                 userid         mcode       event_type  \\\n",
       "0  01cf7916-eb98-4d30-8c81-dd52aa5be060  T0TE52U01003        ViewEvent   \n",
       "1  01cf7916-eb98-4d30-8c81-dd52aa5be060  T0TE52U01003  NavigationEvent   \n",
       "2  01cf7916-eb98-4d30-8c81-dd52aa5be060  T0TE52U01003        ViewEvent   \n",
       "3  01cf7916-eb98-4d30-8c81-dd52aa5be060  T0TE52U01003  NavigationEvent   \n",
       "4  01cf7916-eb98-4d30-8c81-dd52aa5be060  T0TE52U01003        ViewEvent   \n",
       "\n",
       "        action      object_type gender memberstatus_change day_01_status  \\\n",
       "0       Viewed  DigitalResource      M               11,44            11   \n",
       "1  NavigatedTo  DigitalResource      M               11,44            11   \n",
       "2       Viewed  DigitalResource      M               11,44            11   \n",
       "3  NavigatedTo  DigitalResource      M               11,44            11   \n",
       "4       Viewed  DigitalResource      M               11,44            11   \n",
       "\n",
       "  day_02_status day_03_status  ... day_23_status day_24_status day_25_status  \\\n",
       "0            11            11  ...            11            11            44   \n",
       "1            11            11  ...            11            11            44   \n",
       "2            11            11  ...            11            11            44   \n",
       "3            11            11  ...            11            11            44   \n",
       "4            11            11  ...            11            11            44   \n",
       "\n",
       "  day_26_status day_27_status day_28_status day_29_status day_30_status  \\\n",
       "0            44            44            44            44            44   \n",
       "1            44            44            44            44            44   \n",
       "2            44            44            44            44            44   \n",
       "3            44            44            44            44            44   \n",
       "4            44            44            44            44            44   \n",
       "\n",
       "  day_31_status  change_date  \n",
       "0           999           25  \n",
       "1           999           25  \n",
       "2           999           25  \n",
       "3           999           25  \n",
       "4           999           25  \n",
       "\n",
       "[5 rows x 39 columns]"
      ]
     },
     "execution_count": 15,
     "metadata": {},
     "output_type": "execute_result"
    }
   ],
   "source": [
    "df_1D.head()"
   ]
  },
  {
   "cell_type": "code",
   "execution_count": null,
   "id": "4a9a12dc-b03b-4a2a-9182-0b6d88ebcef6",
   "metadata": {},
   "outputs": [],
   "source": [
    "### 2. 원핫-인코딩 - (regretion)"
   ]
  },
  {
   "cell_type": "code",
   "execution_count": 21,
   "id": "23a5dd0f-2653-4b82-ad07-ee01fa48460b",
   "metadata": {
    "execution": {
     "iopub.execute_input": "2024-07-23T08:26:04.000711Z",
     "iopub.status.busy": "2024-07-23T08:26:03.999712Z",
     "iopub.status.idle": "2024-07-23T08:26:04.018276Z",
     "shell.execute_reply": "2024-07-23T08:26:04.018276Z",
     "shell.execute_reply.started": "2024-07-23T08:26:04.000711Z"
    }
   },
   "outputs": [
    {
     "name": "stdout",
     "output_type": "stream",
     "text": [
      "<class 'pandas.core.frame.DataFrame'>\n",
      "RangeIndex: 6476 entries, 0 to 6475\n",
      "Data columns (total 45 columns):\n",
      " #   Column               Non-Null Count  Dtype \n",
      "---  ------               --------------  ----- \n",
      " 0   Unnamed: 0           6476 non-null   int64 \n",
      " 1   userid               6476 non-null   object\n",
      " 2   learning_seq         6476 non-null   int64 \n",
      " 3   mcode                6476 non-null   object\n",
      " 4   learning_action_seq  6476 non-null   int64 \n",
      " 5   event_type           6476 non-null   object\n",
      " 6   action               6476 non-null   object\n",
      " 7   object_type          6476 non-null   object\n",
      " 8   timestamp            6476 non-null   object\n",
      " 9   gender               6476 non-null   object\n",
      " 10  grade                6476 non-null   int64 \n",
      " 11  memberstatus         6476 non-null   int64 \n",
      " 12  memberstatus_change  6476 non-null   object\n",
      " 13  day_01_status        6476 non-null   object\n",
      " 14  day_02_status        6476 non-null   object\n",
      " 15  day_03_status        6476 non-null   object\n",
      " 16  day_04_status        6476 non-null   object\n",
      " 17  day_05_status        6476 non-null   object\n",
      " 18  day_06_status        6476 non-null   object\n",
      " 19  day_07_status        6476 non-null   object\n",
      " 20  day_08_status        6476 non-null   object\n",
      " 21  day_09_status        6476 non-null   object\n",
      " 22  day_10_status        6476 non-null   object\n",
      " 23  day_11_status        6476 non-null   object\n",
      " 24  day_12_status        6476 non-null   object\n",
      " 25  day_13_status        6476 non-null   int64 \n",
      " 26  day_14_status        6476 non-null   int64 \n",
      " 27  day_15_status        6476 non-null   int64 \n",
      " 28  day_16_status        6476 non-null   int64 \n",
      " 29  day_17_status        6476 non-null   int64 \n",
      " 30  day_18_status        6476 non-null   int64 \n",
      " 31  day_19_status        6476 non-null   int64 \n",
      " 32  day_20_status        6476 non-null   int64 \n",
      " 33  day_21_status        6476 non-null   int64 \n",
      " 34  day_22_status        6476 non-null   int64 \n",
      " 35  day_23_status        6476 non-null   int64 \n",
      " 36  day_24_status        6476 non-null   int64 \n",
      " 37  day_25_status        6476 non-null   int64 \n",
      " 38  day_26_status        6476 non-null   int64 \n",
      " 39  day_27_status        6476 non-null   int64 \n",
      " 40  day_28_status        6476 non-null   int64 \n",
      " 41  day_29_status        6476 non-null   int64 \n",
      " 42  day_30_status        6476 non-null   int64 \n",
      " 43  day_31_status        6476 non-null   int64 \n",
      " 44  change_date          6476 non-null   int64 \n",
      "dtypes: int64(25), object(20)\n",
      "memory usage: 2.2+ MB\n"
     ]
    }
   ],
   "source": [
    "# 특성 타입 확인\n",
    "df.info()"
   ]
  },
  {
   "cell_type": "code",
   "execution_count": 18,
   "id": "7bf27c86-9583-419d-ba60-23d01da1fc5f",
   "metadata": {
    "execution": {
     "iopub.execute_input": "2024-07-23T08:10:16.987091Z",
     "iopub.status.busy": "2024-07-23T08:10:16.987091Z",
     "iopub.status.idle": "2024-07-23T08:10:17.004264Z",
     "shell.execute_reply": "2024-07-23T08:10:17.004264Z",
     "shell.execute_reply.started": "2024-07-23T08:10:16.987091Z"
    }
   },
   "outputs": [],
   "source": [
    "# 원-핫 인코딩이 필요한 열 목록 생성\n",
    "# columns_to_encode = []"
   ]
  },
  {
   "cell_type": "code",
   "execution_count": null,
   "id": "7c667b48-bcd2-4bf7-a6b9-bb43f3dc6e43",
   "metadata": {},
   "outputs": [],
   "source": [
    "#df_1D"
   ]
  },
  {
   "cell_type": "code",
   "execution_count": 19,
   "id": "3e141ae5-bb69-47ff-b32e-d43289e09ee4",
   "metadata": {
    "execution": {
     "iopub.execute_input": "2024-07-23T08:10:17.938976Z",
     "iopub.status.busy": "2024-07-23T08:10:17.937968Z",
     "iopub.status.idle": "2024-07-23T08:10:17.951976Z",
     "shell.execute_reply": "2024-07-23T08:10:17.951976Z",
     "shell.execute_reply.started": "2024-07-23T08:10:17.938976Z"
    }
   },
   "outputs": [],
   "source": [
    "# 범주형 열 식별\n",
    "# for column in df_1D.columns:\n",
    "#     if df_1D[column].dtype == 'object': \n",
    "#         columns_to_encode.append(column)"
   ]
  },
  {
   "cell_type": "code",
   "execution_count": 20,
   "id": "a332face-c82a-48da-875f-9c7b8701aa8a",
   "metadata": {
    "execution": {
     "iopub.execute_input": "2024-07-23T08:13:44.715594Z",
     "iopub.status.busy": "2024-07-23T08:13:44.715594Z",
     "iopub.status.idle": "2024-07-23T08:13:44.727102Z",
     "shell.execute_reply": "2024-07-23T08:13:44.727102Z",
     "shell.execute_reply.started": "2024-07-23T08:13:44.715594Z"
    },
    "scrolled": true
   },
   "outputs": [
    {
     "data": {
      "text/plain": [
       "array(['T0TE52U01003', 'T0ME52U21009', 'T0KE52U02006', 'T0XE52U01010',\n",
       "       'T0UE90U11001', 'T9EE51U71001', 'T0ME52U21097', 'T0XE52U01016',\n",
       "       'T0WE90U20001', 'T0WE30U01001', 'T0KE52U03004', 'T0ME52U21011',\n",
       "       'T0WE90U20003', 'T9EE51U71002', 'T0WE90U20002', 'T0SE90U07001',\n",
       "       'T0NE71U02001', 'T0WE90U05001', 'T0WE90U01002', 'T0ME52U21067',\n",
       "       'T0WE90U20004', 'T0ME52U21114', 'T0ME52U22003', 'T0SE52U10004',\n",
       "       'T0KE52U03005', 'T0ME52U22004', 'T0TE52U01004', 'T0WE90U20005',\n",
       "       'T0ME52U22005', 'T0WE90U20006', 'T9EE51U70001', 'T0NE52U11004',\n",
       "       'T0WE90U20008', 'T0NE52U10001', 'T0SE52U10002', 'T0NE52U11001',\n",
       "       'T0NE52U11002', 'T0EE52U20002', 'T0NE52U11003', 'T0KE52U02007',\n",
       "       'T0SE52U10003', 'T0KE52U02009', 'T0KE52U04003', 'T0SE90U16003',\n",
       "       'T0ME52U21007', 'T0KE52U02005', 'T0SE52U29001', 'T0SE52U29002',\n",
       "       'T0ME52U21008', 'T0SE52U29003', 'T0SE52U29004', 'T0SE52U29005',\n",
       "       'T0EE52U07002', 'T0SE52U30001', 'T0SE52U30002', 'T0SE52U30003',\n",
       "       'T0XE52U01013', 'T0XE52U01011', 'T0SE52U30004', 'T0SE52U30005',\n",
       "       'T0XE52U01014', 'T0ME52U21004', 'T0SE90U04006', 'T0SE52U09001',\n",
       "       'T9EE31U19001', 'T0KE52U02003', 'T0ME52U21003', 'T0KE52U02004',\n",
       "       'T0ME52U21005', 'T0ME52U21006', 'T0NE52U09001', 'T9EE31U19002',\n",
       "       'T0EE52U02001', 'T0XE52U01019', 'T0HE90U36014', 'T0XE52U01021',\n",
       "       'T0EE52U02002', 'T0ME52U22038', 'T0XE52U01008', 'T0KE52U03007',\n",
       "       'T0XE52U01022', 'T0WE90U01016', 'T0SE52U11001', 'T0NE52U04002',\n",
       "       'T0XE52U01025', 'T9EE10U04001', 'T0NE52U12001', 'T0XE52U01024',\n",
       "       'T0KE52U03009', 'T0ME51U43008', 'T0ME51U43009', 'T0KE61U23001',\n",
       "       'T0ME51U24058', 'T0SE51U08002', 'T0KE52U02002', 'T0EE52U07003',\n",
       "       'T0KE52U02008', 'T0ME51U43010', 'T0ME51U43011', 'T0ME51U43012',\n",
       "       'T0TE22U05001', 'T0TE22U08001', 'T0OE12U05018', 'T0OE11U03018',\n",
       "       'T0ME51U45009', 'T0EE52U02003', 'T0NE52U13001', 'T0ME52U21014',\n",
       "       'T0ME52U24014', 'T0ME51U24005', 'T0ME51U24114', 'T0EE52U53004',\n",
       "       'T0EE52U53005', 'T0EE52U54001', 'T0EE52U54002', 'T0KE52U02031',\n",
       "       'T0EE52U53006', 'T0ME52U21010', 'T0ME52U21090', 'T0EE52U14001',\n",
       "       'T0KE42U01002', 'T0SE52U10001', 'T0ME72U07041', 'T0ME72U07042',\n",
       "       'T0ME72U07043', 'T0ME72U07044', 'T0ME72U07045', 'T0ME72U10032',\n",
       "       'T0KE52U03003', 'T0ME72U10033', 'T0SE52U10005', 'T0ME72U10034',\n",
       "       'T0ME72U10035', 'T0ME72U10036', 'T0ME72U10037', 'T0KE52U03006',\n",
       "       'T0EE52U02035', 'T0WE90U12001', 'T0ME72U10038', 'T0SE52U11002',\n",
       "       'T0ME72U10039', 'T0NE52U11006', 'T0ME72U10040', 'T0ME72U12038',\n",
       "       'T9EE52U75001', 'T0ME62U21003', 'T0ME61U21005', 'T9EE32U22001',\n",
       "       'T0ME52U21062', 'T0SE52U18007', 'T0ME52U22006', 'T0SE90U05002',\n",
       "       'T0ME52U26002', 'T0NE52U07025', 'T9WE90U53086', 'T0TE52U02002',\n",
       "       'T0XE52U02016', 'T0ME52U23004', 'T0ME52U23005', 'T0ME52U23006',\n",
       "       'T0ME52U24003', 'T0ME52U24004', 'T0ME52U26115', 'T0KE52U06001',\n",
       "       'T0SE51U07017', 'T0SE51U08014', 'T0EE52U13001', 'T0KE52U16001',\n",
       "       'T0ME52U22007', 'T0NE52U12003', 'T0NE52U04003', 'T0EE52U21001',\n",
       "       'T9WE90U01127', 'T9WE90U55068', 'T9WE90U55067', 'T9WE90U32004',\n",
       "       'T9WE90U32059', 'T0NE52U15001', 'T0TE52U02003', 'T0SE90U08008',\n",
       "       'T0SE52U11003', 'T0KE52U04004', 'T0WE30U01002', 'T0NE90U01035',\n",
       "       'T0NE90U01036', 'T0NE90U01031', 'T0KE52U02021', 'T0NE52U12002',\n",
       "       'T0NE90U01023', 'T0NE90U01024', 'T0NE90U01034', 'T0NE90U01037',\n",
       "       'T0NE61U26005', 'T0ME52U22008', 'T0EE52U03001', 'T9EE22U21001',\n",
       "       'T9EE22U21002', 'T0ME50U01005', 'T0NE51U12014', 'T0SE52U10006',\n",
       "       'T0WE90U11001', 'T9WE90U03013', 'T9WE90U03005', 'T0FE50U01002',\n",
       "       'T0FE50U01004'], dtype=object)"
      ]
     },
     "execution_count": 20,
     "metadata": {},
     "output_type": "execute_result"
    }
   ],
   "source": [
    "df_1D['mcode'].unique()"
   ]
  },
  {
   "cell_type": "code",
   "execution_count": 24,
   "id": "5ffac055-3538-442c-a81c-42d5e842fce0",
   "metadata": {
    "execution": {
     "iopub.execute_input": "2024-07-23T08:30:16.262610Z",
     "iopub.status.busy": "2024-07-23T08:30:16.261610Z",
     "iopub.status.idle": "2024-07-23T08:30:16.284278Z",
     "shell.execute_reply": "2024-07-23T08:30:16.284278Z",
     "shell.execute_reply.started": "2024-07-23T08:30:16.262610Z"
    }
   },
   "outputs": [
    {
     "data": {
      "text/html": [
       "<div>\n",
       "<style scoped>\n",
       "    .dataframe tbody tr th:only-of-type {\n",
       "        vertical-align: middle;\n",
       "    }\n",
       "\n",
       "    .dataframe tbody tr th {\n",
       "        vertical-align: top;\n",
       "    }\n",
       "\n",
       "    .dataframe thead th {\n",
       "        text-align: right;\n",
       "    }\n",
       "</style>\n",
       "<table border=\"1\" class=\"dataframe\">\n",
       "  <thead>\n",
       "    <tr style=\"text-align: right;\">\n",
       "      <th></th>\n",
       "      <th>userid</th>\n",
       "      <th>mcode</th>\n",
       "      <th>event_type</th>\n",
       "      <th>action</th>\n",
       "      <th>object_type</th>\n",
       "      <th>gender</th>\n",
       "      <th>memberstatus_change</th>\n",
       "      <th>day_01_status</th>\n",
       "      <th>day_02_status</th>\n",
       "      <th>day_03_status</th>\n",
       "      <th>...</th>\n",
       "      <th>day_23_status</th>\n",
       "      <th>day_24_status</th>\n",
       "      <th>day_25_status</th>\n",
       "      <th>day_26_status</th>\n",
       "      <th>day_27_status</th>\n",
       "      <th>day_28_status</th>\n",
       "      <th>day_29_status</th>\n",
       "      <th>day_30_status</th>\n",
       "      <th>day_31_status</th>\n",
       "      <th>change_date</th>\n",
       "    </tr>\n",
       "  </thead>\n",
       "  <tbody>\n",
       "    <tr>\n",
       "      <th>0</th>\n",
       "      <td>01cf7916-eb98-4d30-8c81-dd52aa5be060</td>\n",
       "      <td>T0TE52U01003</td>\n",
       "      <td>ViewEvent</td>\n",
       "      <td>Viewed</td>\n",
       "      <td>DigitalResource</td>\n",
       "      <td>M</td>\n",
       "      <td>11,44</td>\n",
       "      <td>11</td>\n",
       "      <td>11</td>\n",
       "      <td>11</td>\n",
       "      <td>...</td>\n",
       "      <td>11</td>\n",
       "      <td>11</td>\n",
       "      <td>44</td>\n",
       "      <td>44</td>\n",
       "      <td>44</td>\n",
       "      <td>44</td>\n",
       "      <td>44</td>\n",
       "      <td>44</td>\n",
       "      <td>999</td>\n",
       "      <td>25</td>\n",
       "    </tr>\n",
       "    <tr>\n",
       "      <th>1</th>\n",
       "      <td>01cf7916-eb98-4d30-8c81-dd52aa5be060</td>\n",
       "      <td>T0TE52U01003</td>\n",
       "      <td>NavigationEvent</td>\n",
       "      <td>NavigatedTo</td>\n",
       "      <td>DigitalResource</td>\n",
       "      <td>M</td>\n",
       "      <td>11,44</td>\n",
       "      <td>11</td>\n",
       "      <td>11</td>\n",
       "      <td>11</td>\n",
       "      <td>...</td>\n",
       "      <td>11</td>\n",
       "      <td>11</td>\n",
       "      <td>44</td>\n",
       "      <td>44</td>\n",
       "      <td>44</td>\n",
       "      <td>44</td>\n",
       "      <td>44</td>\n",
       "      <td>44</td>\n",
       "      <td>999</td>\n",
       "      <td>25</td>\n",
       "    </tr>\n",
       "    <tr>\n",
       "      <th>2</th>\n",
       "      <td>01cf7916-eb98-4d30-8c81-dd52aa5be060</td>\n",
       "      <td>T0TE52U01003</td>\n",
       "      <td>ViewEvent</td>\n",
       "      <td>Viewed</td>\n",
       "      <td>DigitalResource</td>\n",
       "      <td>M</td>\n",
       "      <td>11,44</td>\n",
       "      <td>11</td>\n",
       "      <td>11</td>\n",
       "      <td>11</td>\n",
       "      <td>...</td>\n",
       "      <td>11</td>\n",
       "      <td>11</td>\n",
       "      <td>44</td>\n",
       "      <td>44</td>\n",
       "      <td>44</td>\n",
       "      <td>44</td>\n",
       "      <td>44</td>\n",
       "      <td>44</td>\n",
       "      <td>999</td>\n",
       "      <td>25</td>\n",
       "    </tr>\n",
       "    <tr>\n",
       "      <th>3</th>\n",
       "      <td>01cf7916-eb98-4d30-8c81-dd52aa5be060</td>\n",
       "      <td>T0TE52U01003</td>\n",
       "      <td>NavigationEvent</td>\n",
       "      <td>NavigatedTo</td>\n",
       "      <td>DigitalResource</td>\n",
       "      <td>M</td>\n",
       "      <td>11,44</td>\n",
       "      <td>11</td>\n",
       "      <td>11</td>\n",
       "      <td>11</td>\n",
       "      <td>...</td>\n",
       "      <td>11</td>\n",
       "      <td>11</td>\n",
       "      <td>44</td>\n",
       "      <td>44</td>\n",
       "      <td>44</td>\n",
       "      <td>44</td>\n",
       "      <td>44</td>\n",
       "      <td>44</td>\n",
       "      <td>999</td>\n",
       "      <td>25</td>\n",
       "    </tr>\n",
       "    <tr>\n",
       "      <th>4</th>\n",
       "      <td>01cf7916-eb98-4d30-8c81-dd52aa5be060</td>\n",
       "      <td>T0TE52U01003</td>\n",
       "      <td>ViewEvent</td>\n",
       "      <td>Viewed</td>\n",
       "      <td>DigitalResource</td>\n",
       "      <td>M</td>\n",
       "      <td>11,44</td>\n",
       "      <td>11</td>\n",
       "      <td>11</td>\n",
       "      <td>11</td>\n",
       "      <td>...</td>\n",
       "      <td>11</td>\n",
       "      <td>11</td>\n",
       "      <td>44</td>\n",
       "      <td>44</td>\n",
       "      <td>44</td>\n",
       "      <td>44</td>\n",
       "      <td>44</td>\n",
       "      <td>44</td>\n",
       "      <td>999</td>\n",
       "      <td>25</td>\n",
       "    </tr>\n",
       "  </tbody>\n",
       "</table>\n",
       "<p>5 rows × 39 columns</p>\n",
       "</div>"
      ],
      "text/plain": [
       "                                 userid         mcode       event_type  \\\n",
       "0  01cf7916-eb98-4d30-8c81-dd52aa5be060  T0TE52U01003        ViewEvent   \n",
       "1  01cf7916-eb98-4d30-8c81-dd52aa5be060  T0TE52U01003  NavigationEvent   \n",
       "2  01cf7916-eb98-4d30-8c81-dd52aa5be060  T0TE52U01003        ViewEvent   \n",
       "3  01cf7916-eb98-4d30-8c81-dd52aa5be060  T0TE52U01003  NavigationEvent   \n",
       "4  01cf7916-eb98-4d30-8c81-dd52aa5be060  T0TE52U01003        ViewEvent   \n",
       "\n",
       "        action      object_type gender memberstatus_change day_01_status  \\\n",
       "0       Viewed  DigitalResource      M               11,44            11   \n",
       "1  NavigatedTo  DigitalResource      M               11,44            11   \n",
       "2       Viewed  DigitalResource      M               11,44            11   \n",
       "3  NavigatedTo  DigitalResource      M               11,44            11   \n",
       "4       Viewed  DigitalResource      M               11,44            11   \n",
       "\n",
       "  day_02_status day_03_status  ... day_23_status day_24_status day_25_status  \\\n",
       "0            11            11  ...            11            11            44   \n",
       "1            11            11  ...            11            11            44   \n",
       "2            11            11  ...            11            11            44   \n",
       "3            11            11  ...            11            11            44   \n",
       "4            11            11  ...            11            11            44   \n",
       "\n",
       "  day_26_status day_27_status day_28_status day_29_status day_30_status  \\\n",
       "0            44            44            44            44            44   \n",
       "1            44            44            44            44            44   \n",
       "2            44            44            44            44            44   \n",
       "3            44            44            44            44            44   \n",
       "4            44            44            44            44            44   \n",
       "\n",
       "  day_31_status  change_date  \n",
       "0           999           25  \n",
       "1           999           25  \n",
       "2           999           25  \n",
       "3           999           25  \n",
       "4           999           25  \n",
       "\n",
       "[5 rows x 39 columns]"
      ]
     },
     "execution_count": 24,
     "metadata": {},
     "output_type": "execute_result"
    }
   ],
   "source": [
    "df_1D.head()"
   ]
  },
  {
   "cell_type": "code",
   "execution_count": 25,
   "id": "d7c76542-55b1-4e2e-adf4-ecdef1ef83e8",
   "metadata": {
    "execution": {
     "iopub.execute_input": "2024-07-23T08:31:34.487988Z",
     "iopub.status.busy": "2024-07-23T08:31:34.486989Z",
     "iopub.status.idle": "2024-07-23T08:31:34.530845Z",
     "shell.execute_reply": "2024-07-23T08:31:34.530845Z",
     "shell.execute_reply.started": "2024-07-23T08:31:34.487988Z"
    }
   },
   "outputs": [
    {
     "name": "stdout",
     "output_type": "stream",
     "text": [
      "  day_01_status day_02_status day_03_status day_04_status day_05_status  \\\n",
      "0            11            11            11            11            11   \n",
      "1            11            11            11            11            11   \n",
      "2            11            11            11            11            11   \n",
      "3            11            11            11            11            11   \n",
      "4            11            11            11            11            11   \n",
      "\n",
      "  day_06_status day_07_status day_08_status day_09_status day_10_status  ...  \\\n",
      "0            11            11            11            11            11  ...   \n",
      "1            11            11            11            11            11  ...   \n",
      "2            11            11            11            11            11  ...   \n",
      "3            11            11            11            11            11  ...   \n",
      "4            11            11            11            11            11  ...   \n",
      "\n",
      "  object_type_WebPage gender_F  gender_M  gender_X  \\\n",
      "0               False    False      True     False   \n",
      "1               False    False      True     False   \n",
      "2               False    False      True     False   \n",
      "3               False    False      True     False   \n",
      "4               False    False      True     False   \n",
      "\n",
      "   memberstatus_change_-,00,01,44  memberstatus_change_-,02,01,44  \\\n",
      "0                           False                           False   \n",
      "1                           False                           False   \n",
      "2                           False                           False   \n",
      "3                           False                           False   \n",
      "4                           False                           False   \n",
      "\n",
      "   memberstatus_change_00,01,44  memberstatus_change_00,11,44  \\\n",
      "0                         False                         False   \n",
      "1                         False                         False   \n",
      "2                         False                         False   \n",
      "3                         False                         False   \n",
      "4                         False                         False   \n",
      "\n",
      "   memberstatus_change_11,44  memberstatus_change_11,55,44  \n",
      "0                       True                         False  \n",
      "1                       True                         False  \n",
      "2                       True                         False  \n",
      "3                       True                         False  \n",
      "4                       True                         False  \n",
      "\n",
      "[5 rows x 292 columns]\n"
     ]
    }
   ],
   "source": [
    "# 다중분류 컬럼 목록\n",
    "columns_to_encode = ['userid', 'mcode', 'event_type', 'action', 'object_type', 'gender', 'memberstatus_change']\n",
    "\n",
    "# 나머지 열들에 대해 원-핫 인코딩 적용\n",
    "data_encoded = pd.get_dummies(df_1D, columns=columns_to_encode)\n",
    "\n",
    "# 인코딩된 데이터의 첫 몇 행을 출력\n",
    "print(data_encoded.head())"
   ]
  },
  {
   "cell_type": "code",
   "execution_count": 28,
   "id": "ecad2bc4-de97-41a3-86a1-7eda5d051b16",
   "metadata": {
    "execution": {
     "iopub.execute_input": "2024-07-23T08:32:28.661936Z",
     "iopub.status.busy": "2024-07-23T08:32:28.660936Z",
     "iopub.status.idle": "2024-07-23T08:32:28.676448Z",
     "shell.execute_reply": "2024-07-23T08:32:28.676448Z",
     "shell.execute_reply.started": "2024-07-23T08:32:28.661936Z"
    }
   },
   "outputs": [
    {
     "data": {
      "text/plain": [
       "6476"
      ]
     },
     "execution_count": 28,
     "metadata": {},
     "output_type": "execute_result"
    }
   ],
   "source": [
    "len(data_encoded)"
   ]
  },
  {
   "cell_type": "code",
   "execution_count": 29,
   "id": "bcbb9836-3bcf-4f4b-a942-cc248dac705e",
   "metadata": {
    "execution": {
     "iopub.execute_input": "2024-07-23T08:38:48.622113Z",
     "iopub.status.busy": "2024-07-23T08:38:48.621113Z",
     "iopub.status.idle": "2024-07-23T08:38:48.864277Z",
     "shell.execute_reply": "2024-07-23T08:38:48.864277Z",
     "shell.execute_reply.started": "2024-07-23T08:38:48.622113Z"
    }
   },
   "outputs": [],
   "source": [
    "# csv로 확인하기\n",
    "data_encoded.to_csv('encoded_data.csv', index=False)\n",
    "# data_encoded.csv로 만들어짐"
   ]
  },
  {
   "cell_type": "code",
   "execution_count": null,
   "id": "f595884d-3142-4a24-b766-201077ccbfa9",
   "metadata": {},
   "outputs": [],
   "source": []
  },
  {
   "cell_type": "code",
   "execution_count": null,
   "id": "24d48c5d-f523-4c6f-900d-d1b5a9b2f4df",
   "metadata": {},
   "outputs": [],
   "source": []
  },
  {
   "cell_type": "code",
   "execution_count": null,
   "id": "f83e2809-b82f-4c2e-8a96-9ce0b17b9cec",
   "metadata": {},
   "outputs": [],
   "source": []
  }
 ],
 "metadata": {
  "kernelspec": {
   "display_name": "Python 3 (ipykernel)",
   "language": "python",
   "name": "python3"
  },
  "language_info": {
   "codemirror_mode": {
    "name": "ipython",
    "version": 3
   },
   "file_extension": ".py",
   "mimetype": "text/x-python",
   "name": "python",
   "nbconvert_exporter": "python",
   "pygments_lexer": "ipython3",
   "version": "3.10.8"
  }
 },
 "nbformat": 4,
 "nbformat_minor": 5
}
