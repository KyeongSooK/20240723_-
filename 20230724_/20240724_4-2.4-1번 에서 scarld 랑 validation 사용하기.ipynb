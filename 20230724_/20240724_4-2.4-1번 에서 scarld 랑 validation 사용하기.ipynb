{
 "cells": [
  {
   "cell_type": "code",
   "execution_count": 1,
   "id": "a3c00906-9271-4f9c-9d4f-fd258efb57ac",
   "metadata": {
    "execution": {
     "iopub.execute_input": "2024-07-24T01:39:23.072642Z",
     "iopub.status.busy": "2024-07-24T01:39:23.072642Z",
     "iopub.status.idle": "2024-07-24T01:39:23.990720Z",
     "shell.execute_reply": "2024-07-24T01:39:23.990720Z",
     "shell.execute_reply.started": "2024-07-24T01:39:23.072642Z"
    }
   },
   "outputs": [
    {
     "name": "stdout",
     "output_type": "stream",
     "text": [
      "CUDA(GPU)를 사용합니다.\n"
     ]
    }
   ],
   "source": [
    "import torch\n",
    "# 사용안하면 run all cells하다가 마지막에 리스타트 오류남.\n",
    "# CPU 에서 GPU 활성 하기\n",
    "if torch.cuda.is_available():\n",
    "    device = torch.device(\"cuda\") # 목적지가 cuda device에 설정된다.\n",
    "    print(\"CUDA(GPU)를 사용합니다.\")\n",
    "else:\n",
    "    device = torch.device(\"cpu\")\n",
    "    print(\"CUDA(GPU)를 사용할 수 없으므로, cpu를 사용합니다.\")"
   ]
  },
  {
   "cell_type": "code",
   "execution_count": 2,
   "id": "d67c1de0-3cba-4cae-8ef8-886c9d8ad047",
   "metadata": {
    "execution": {
     "iopub.execute_input": "2024-07-24T01:39:23.991738Z",
     "iopub.status.busy": "2024-07-24T01:39:23.991738Z",
     "iopub.status.idle": "2024-07-24T01:39:24.006390Z",
     "shell.execute_reply": "2024-07-24T01:39:24.006390Z",
     "shell.execute_reply.started": "2024-07-24T01:39:23.991738Z"
    }
   },
   "outputs": [
    {
     "name": "stdout",
     "output_type": "stream",
     "text": [
      "ks\n"
     ]
    }
   ],
   "source": [
    "print('ks')"
   ]
  },
  {
   "cell_type": "code",
   "execution_count": 3,
   "id": "f4cfc855-f158-4b42-92b0-0431c6e92ae5",
   "metadata": {
    "execution": {
     "iopub.execute_input": "2024-07-24T01:39:24.007391Z",
     "iopub.status.busy": "2024-07-24T01:39:24.007391Z",
     "iopub.status.idle": "2024-07-24T01:39:24.021589Z",
     "shell.execute_reply": "2024-07-24T01:39:24.021589Z",
     "shell.execute_reply.started": "2024-07-24T01:39:24.007391Z"
    }
   },
   "outputs": [],
   "source": [
    "# 4번나눠보기\n",
    "## #@! 4번과 다른점 4. 데이터셋 분할 에서 X_train 가 중복 확인. #@!"
   ]
  },
  {
   "cell_type": "code",
   "execution_count": 4,
   "id": "a4c01fea-6c70-44d4-b2bf-b83cb4d54235",
   "metadata": {
    "execution": {
     "iopub.execute_input": "2024-07-24T01:39:24.022589Z",
     "iopub.status.busy": "2024-07-24T01:39:24.022589Z",
     "iopub.status.idle": "2024-07-24T01:39:24.038149Z",
     "shell.execute_reply": "2024-07-24T01:39:24.037147Z",
     "shell.execute_reply.started": "2024-07-24T01:39:24.022589Z"
    }
   },
   "outputs": [],
   "source": [
    "#### 1. 패키지 사용"
   ]
  },
  {
   "cell_type": "code",
   "execution_count": 5,
   "id": "162417d2-9319-4dca-abd2-4d61f5f1585f",
   "metadata": {
    "execution": {
     "iopub.execute_input": "2024-07-24T01:39:24.038149Z",
     "iopub.status.busy": "2024-07-24T01:39:24.038149Z",
     "iopub.status.idle": "2024-07-24T01:39:25.985628Z",
     "shell.execute_reply": "2024-07-24T01:39:25.985628Z",
     "shell.execute_reply.started": "2024-07-24T01:39:24.038149Z"
    }
   },
   "outputs": [],
   "source": [
    "import tensorflow as tf\n",
    "import pandas as pd\n",
    "import numpy as np\n",
    "import matplotlib.pyplot as plt\n",
    "from sklearn.model_selection import train_test_split"
   ]
  },
  {
   "cell_type": "code",
   "execution_count": 6,
   "id": "6d808b38-3fcf-49ca-a7cd-a0bfad76298d",
   "metadata": {
    "execution": {
     "iopub.execute_input": "2024-07-24T01:39:25.986631Z",
     "iopub.status.busy": "2024-07-24T01:39:25.986631Z",
     "iopub.status.idle": "2024-07-24T01:39:26.001168Z",
     "shell.execute_reply": "2024-07-24T01:39:26.001168Z",
     "shell.execute_reply.started": "2024-07-24T01:39:25.986631Z"
    }
   },
   "outputs": [],
   "source": [
    "#### 2. 데이터 로드 및 독립 변수와 종속 변수 분리"
   ]
  },
  {
   "cell_type": "code",
   "execution_count": 7,
   "id": "d06316ac-0732-4cbb-a3b8-35393ef33722",
   "metadata": {
    "execution": {
     "iopub.execute_input": "2024-07-24T01:39:26.002169Z",
     "iopub.status.busy": "2024-07-24T01:39:26.002169Z",
     "iopub.status.idle": "2024-07-24T01:39:26.080478Z",
     "shell.execute_reply": "2024-07-24T01:39:26.080478Z",
     "shell.execute_reply.started": "2024-07-24T01:39:26.002169Z"
    }
   },
   "outputs": [
    {
     "name": "stderr",
     "output_type": "stream",
     "text": [
      "C:\\Users\\user\\AppData\\Local\\Temp\\ipykernel_33092\\2516417766.py:2: DtypeWarning: Columns (4,5,6,7,8,9,10,11) have mixed types. Specify dtype option on import or set low_memory=False.\n",
      "  df = pd.read_csv('./encoded_data.csv')\n"
     ]
    }
   ],
   "source": [
    "# 데이터 로드\n",
    "df = pd.read_csv('./encoded_data.csv')\n",
    "\n",
    "# change_date 열을 제외한 나머지 열 선택\n",
    "X = df.drop(columns=['change_date'])\n",
    "y = df['change_date'].values # 예측값"
   ]
  },
  {
   "cell_type": "code",
   "execution_count": 8,
   "id": "980f07c0-2047-4ef3-bb8c-802ed7a5e471",
   "metadata": {
    "execution": {
     "iopub.execute_input": "2024-07-24T01:39:26.081478Z",
     "iopub.status.busy": "2024-07-24T01:39:26.081478Z",
     "iopub.status.idle": "2024-07-24T01:39:26.095695Z",
     "shell.execute_reply": "2024-07-24T01:39:26.095695Z",
     "shell.execute_reply.started": "2024-07-24T01:39:26.081478Z"
    }
   },
   "outputs": [],
   "source": [
    "#len(df) 6476\n",
    "#len(X.columns) # 291\n",
    "#y # shape 6476"
   ]
  },
  {
   "cell_type": "code",
   "execution_count": 9,
   "id": "00d6ee3e-bf49-489f-a6ac-621e85ae7a87",
   "metadata": {
    "execution": {
     "iopub.execute_input": "2024-07-24T01:39:26.096689Z",
     "iopub.status.busy": "2024-07-24T01:39:26.096689Z",
     "iopub.status.idle": "2024-07-24T01:39:26.111210Z",
     "shell.execute_reply": "2024-07-24T01:39:26.111210Z",
     "shell.execute_reply.started": "2024-07-24T01:39:26.096689Z"
    }
   },
   "outputs": [],
   "source": [
    "#### 3. 결측값 처리"
   ]
  },
  {
   "cell_type": "code",
   "execution_count": 10,
   "id": "43e1d9a2-d72f-47c3-8a63-fa851bcd34e7",
   "metadata": {
    "execution": {
     "iopub.execute_input": "2024-07-24T01:39:26.112206Z",
     "iopub.status.busy": "2024-07-24T01:39:26.112206Z",
     "iopub.status.idle": "2024-07-24T01:39:26.237717Z",
     "shell.execute_reply": "2024-07-24T01:39:26.237717Z",
     "shell.execute_reply.started": "2024-07-24T01:39:26.112206Z"
    }
   },
   "outputs": [],
   "source": [
    "# 결측값 처리 (예: 평균값으로 대체)\n",
    "X.replace('-', np.nan, inplace=True)\n",
    "X = X.astype(np.float32)\n",
    "X.fillna(X.mean(), inplace=True)\n",
    "\n",
    "y = y.astype(np.float32)"
   ]
  },
  {
   "cell_type": "code",
   "execution_count": 11,
   "id": "c47a92a3-7f10-4c13-9559-459b473a03af",
   "metadata": {
    "execution": {
     "iopub.execute_input": "2024-07-24T01:39:26.238715Z",
     "iopub.status.busy": "2024-07-24T01:39:26.237717Z",
     "iopub.status.idle": "2024-07-24T01:39:26.252938Z",
     "shell.execute_reply": "2024-07-24T01:39:26.252938Z",
     "shell.execute_reply.started": "2024-07-24T01:39:26.238715Z"
    }
   },
   "outputs": [],
   "source": [
    "#### 4. 데이터셋 분할"
   ]
  },
  {
   "cell_type": "code",
   "execution_count": 12,
   "id": "447fc674-08fb-44f5-bc4c-d5a6f1cf7854",
   "metadata": {
    "execution": {
     "iopub.execute_input": "2024-07-24T01:39:26.255938Z",
     "iopub.status.busy": "2024-07-24T01:39:26.254939Z",
     "iopub.status.idle": "2024-07-24T01:39:26.268370Z",
     "shell.execute_reply": "2024-07-24T01:39:26.268370Z",
     "shell.execute_reply.started": "2024-07-24T01:39:26.255938Z"
    }
   },
   "outputs": [],
   "source": [
    "# train/test 데이터셋 나누기 (80% train, 20% test)\n",
    "X_train, X_test, y_train, y_test = train_test_split(X, y, test_size=0.2, random_state=123)\n",
    "\n",
    "# train/val 데이터셋 나누기 (80% train, 20% val)\n",
    "X_sub, X_val, y_sub, y_val = train_test_split(X_train, y_train, test_size=0.2, random_state=123)"
   ]
  },
  {
   "cell_type": "code",
   "execution_count": 34,
   "id": "81ae6076-ac6e-4f75-b69e-dc8aa55798f1",
   "metadata": {
    "execution": {
     "iopub.execute_input": "2024-07-24T01:43:35.368712Z",
     "iopub.status.busy": "2024-07-24T01:43:35.367717Z",
     "iopub.status.idle": "2024-07-24T01:43:35.384764Z",
     "shell.execute_reply": "2024-07-24T01:43:35.384764Z",
     "shell.execute_reply.started": "2024-07-24T01:43:35.368712Z"
    }
   },
   "outputs": [
    {
     "data": {
      "text/plain": [
       "1036"
      ]
     },
     "execution_count": 34,
     "metadata": {},
     "output_type": "execute_result"
    }
   ],
   "source": [
    "# 1) train/test 데이터셋 나누기 row 갯수 확인\n",
    "# len(X_train) # len값 X_train 5180 \n",
    "# len(X_test) # X_test 1296 \n",
    "# len(y_train) # len값 y_train 5180 \n",
    "# len(y_test) # y_test 1296 \n",
    "\n",
    "# 2) train에서 X y _sub X y _val 데이터셋 나누기 row 갯수 확인\n",
    "# len(X_sub) # len값 X_sub 4144 \n",
    "# len(X_val) # X_val 1036 \n",
    "# len(y_sub) # len값 y_sub (test) 4144 \n",
    "# len(y_val) # y_val 1036 \n",
    "# y_sub + y_val = 5180 확인 완료.\n",
    "\n",
    "#len(X.columns) # 291\n",
    "#y # shape 6476\n",
    "#y_test = "
   ]
  },
  {
   "cell_type": "code",
   "execution_count": 14,
   "id": "f71caa86-25de-4fda-8fd8-a8baa2687247",
   "metadata": {
    "execution": {
     "iopub.execute_input": "2024-07-24T01:39:26.284720Z",
     "iopub.status.busy": "2024-07-24T01:39:26.284720Z",
     "iopub.status.idle": "2024-07-24T01:39:26.299752Z",
     "shell.execute_reply": "2024-07-24T01:39:26.299752Z",
     "shell.execute_reply.started": "2024-07-24T01:39:26.284720Z"
    }
   },
   "outputs": [],
   "source": [
    "#### 5. 모델 생성"
   ]
  },
  {
   "cell_type": "code",
   "execution_count": 15,
   "id": "f14fce8b-434b-4b07-9f98-32afee0d9d55",
   "metadata": {
    "execution": {
     "iopub.execute_input": "2024-07-24T01:39:26.299752Z",
     "iopub.status.busy": "2024-07-24T01:39:26.299752Z",
     "iopub.status.idle": "2024-07-24T01:39:26.363528Z",
     "shell.execute_reply": "2024-07-24T01:39:26.363255Z",
     "shell.execute_reply.started": "2024-07-24T01:39:26.299752Z"
    }
   },
   "outputs": [],
   "source": [
    "# Sequential 모델 생성\n",
    "model = tf.keras.models.Sequential([\n",
    "    tf.keras.layers.Dense(128, input_dim=X.shape[1], activation='relu'), # 입력계층 특성 수를 자동으로 설정 # X.shape[1] = 219\n",
    "    tf.keras.layers.Dense(64, activation='relu'), # 은닉계층1\n",
    "    tf.keras.layers.Dense(32, activation='relu'), # 은닉계층2\n",
    "    tf.keras.layers.Dense(16, activation='relu'), # 은닉계층3\n",
    "    tf.keras.layers.Dense(1, activation='linear') # 출력계층   activation linear 사용 #@!\n",
    "])"
   ]
  },
  {
   "cell_type": "code",
   "execution_count": 16,
   "id": "99329c1a-ba42-480b-9f65-530b34f20946",
   "metadata": {
    "execution": {
     "iopub.execute_input": "2024-07-24T01:39:26.363528Z",
     "iopub.status.busy": "2024-07-24T01:39:26.363528Z",
     "iopub.status.idle": "2024-07-24T01:39:26.378391Z",
     "shell.execute_reply": "2024-07-24T01:39:26.378391Z",
     "shell.execute_reply.started": "2024-07-24T01:39:26.363528Z"
    }
   },
   "outputs": [],
   "source": [
    "#### 6. 모델 컴파일"
   ]
  },
  {
   "cell_type": "code",
   "execution_count": 17,
   "id": "c31c96c3-b69b-45c2-85c0-79d744033f70",
   "metadata": {
    "execution": {
     "iopub.execute_input": "2024-07-24T01:39:26.379392Z",
     "iopub.status.busy": "2024-07-24T01:39:26.379392Z",
     "iopub.status.idle": "2024-07-24T01:39:26.393858Z",
     "shell.execute_reply": "2024-07-24T01:39:26.393858Z",
     "shell.execute_reply.started": "2024-07-24T01:39:26.379392Z"
    }
   },
   "outputs": [],
   "source": [
    "# 회귀를 위한 손실 함수(mean squared error)와 메트릭스(mean absolute error) 사용하여 모델 컴파일\n",
    "model.compile(loss='mean_squared_error', optimizer='adam', metrics=['mean_absolute_error'])"
   ]
  },
  {
   "cell_type": "code",
   "execution_count": 18,
   "id": "776e5b4e-2371-4bad-9a4c-f4859fe87718",
   "metadata": {
    "execution": {
     "iopub.execute_input": "2024-07-24T01:39:26.394858Z",
     "iopub.status.busy": "2024-07-24T01:39:26.394858Z",
     "iopub.status.idle": "2024-07-24T01:39:26.409481Z",
     "shell.execute_reply": "2024-07-24T01:39:26.409481Z",
     "shell.execute_reply.started": "2024-07-24T01:39:26.394858Z"
    }
   },
   "outputs": [],
   "source": [
    "#### 7. 모델 정보 확인"
   ]
  },
  {
   "cell_type": "code",
   "execution_count": 19,
   "id": "500fe985-e2af-4313-b771-f6afed32a50a",
   "metadata": {
    "execution": {
     "iopub.execute_input": "2024-07-24T01:39:26.410482Z",
     "iopub.status.busy": "2024-07-24T01:39:26.410482Z",
     "iopub.status.idle": "2024-07-24T01:39:26.425481Z",
     "shell.execute_reply": "2024-07-24T01:39:26.425481Z",
     "shell.execute_reply.started": "2024-07-24T01:39:26.410482Z"
    }
   },
   "outputs": [
    {
     "name": "stdout",
     "output_type": "stream",
     "text": [
      "Model: \"sequential\"\n",
      "_________________________________________________________________\n",
      " Layer (type)                Output Shape              Param #   \n",
      "=================================================================\n",
      " dense (Dense)               (None, 128)               37376     \n",
      "                                                                 \n",
      " dense_1 (Dense)             (None, 64)                8256      \n",
      "                                                                 \n",
      " dense_2 (Dense)             (None, 32)                2080      \n",
      "                                                                 \n",
      " dense_3 (Dense)             (None, 16)                528       \n",
      "                                                                 \n",
      " dense_4 (Dense)             (None, 1)                 17        \n",
      "                                                                 \n",
      "=================================================================\n",
      "Total params: 48,257\n",
      "Trainable params: 48,257\n",
      "Non-trainable params: 0\n",
      "_________________________________________________________________\n"
     ]
    }
   ],
   "source": [
    "# 모델 정보(요약) 확인\n",
    "model.summary()"
   ]
  },
  {
   "cell_type": "code",
   "execution_count": 20,
   "id": "8a7f1e78-1bb7-46ef-8107-062a36b86804",
   "metadata": {
    "execution": {
     "iopub.execute_input": "2024-07-24T01:39:26.426481Z",
     "iopub.status.busy": "2024-07-24T01:39:26.426481Z",
     "iopub.status.idle": "2024-07-24T01:39:26.440626Z",
     "shell.execute_reply": "2024-07-24T01:39:26.440626Z",
     "shell.execute_reply.started": "2024-07-24T01:39:26.426481Z"
    }
   },
   "outputs": [],
   "source": [
    "#### 8. 시드값 설정 및 tensorflow numpy 랜덤"
   ]
  },
  {
   "cell_type": "code",
   "execution_count": 21,
   "id": "92dad10b-4c65-467a-bf38-7d4ed63e5c40",
   "metadata": {
    "execution": {
     "iopub.execute_input": "2024-07-24T01:39:26.441626Z",
     "iopub.status.busy": "2024-07-24T01:39:26.441626Z",
     "iopub.status.idle": "2024-07-24T01:39:26.455640Z",
     "shell.execute_reply": "2024-07-24T01:39:26.455640Z",
     "shell.execute_reply.started": "2024-07-24T01:39:26.441626Z"
    }
   },
   "outputs": [],
   "source": [
    "# 시드 값 설정\n",
    "seed = 123\n",
    "tf.random.set_seed(seed)\n",
    "np.random.seed(seed)"
   ]
  },
  {
   "cell_type": "code",
   "execution_count": 22,
   "id": "dd6a5b1c-f59e-4c31-9a4b-0c96b73e26a3",
   "metadata": {
    "execution": {
     "iopub.execute_input": "2024-07-24T01:39:26.456640Z",
     "iopub.status.busy": "2024-07-24T01:39:26.456640Z",
     "iopub.status.idle": "2024-07-24T01:39:26.471671Z",
     "shell.execute_reply": "2024-07-24T01:39:26.471671Z",
     "shell.execute_reply.started": "2024-07-24T01:39:26.456640Z"
    }
   },
   "outputs": [],
   "source": [
    "#### 9. 모델 학습"
   ]
  },
  {
   "cell_type": "code",
   "execution_count": 23,
   "id": "866ebfa1-6f29-4b68-9920-a562ebc5286f",
   "metadata": {
    "execution": {
     "iopub.execute_input": "2024-07-24T01:39:26.472672Z",
     "iopub.status.busy": "2024-07-24T01:39:26.472672Z",
     "iopub.status.idle": "2024-07-24T01:39:35.658818Z",
     "shell.execute_reply": "2024-07-24T01:39:35.658818Z",
     "shell.execute_reply.started": "2024-07-24T01:39:26.472672Z"
    },
    "scrolled": true
   },
   "outputs": [
    {
     "name": "stdout",
     "output_type": "stream",
     "text": [
      "Epoch 1/100\n",
      "42/42 [==============================] - 1s 5ms/step - loss: 16.8392 - mean_absolute_error: 2.8333 - val_loss: 1.5439 - val_mean_absolute_error: 0.9162\n",
      "Epoch 2/100\n",
      "42/42 [==============================] - 0s 2ms/step - loss: 0.8186 - mean_absolute_error: 0.6698 - val_loss: 0.5657 - val_mean_absolute_error: 0.5033\n",
      "Epoch 3/100\n",
      "42/42 [==============================] - 0s 2ms/step - loss: 0.4494 - mean_absolute_error: 0.4758 - val_loss: 0.3736 - val_mean_absolute_error: 0.4146\n",
      "Epoch 4/100\n",
      "42/42 [==============================] - 0s 2ms/step - loss: 0.3168 - mean_absolute_error: 0.3934 - val_loss: 0.2672 - val_mean_absolute_error: 0.3613\n",
      "Epoch 5/100\n",
      "42/42 [==============================] - 0s 2ms/step - loss: 0.2414 - mean_absolute_error: 0.3356 - val_loss: 0.2043 - val_mean_absolute_error: 0.2982\n",
      "Epoch 6/100\n",
      "42/42 [==============================] - 0s 2ms/step - loss: 0.1850 - mean_absolute_error: 0.2814 - val_loss: 0.1689 - val_mean_absolute_error: 0.2769\n",
      "Epoch 7/100\n",
      "42/42 [==============================] - 0s 2ms/step - loss: 0.1523 - mean_absolute_error: 0.2495 - val_loss: 0.1263 - val_mean_absolute_error: 0.2177\n",
      "Epoch 8/100\n",
      "42/42 [==============================] - 0s 2ms/step - loss: 0.1166 - mean_absolute_error: 0.2066 - val_loss: 0.1100 - val_mean_absolute_error: 0.2094\n",
      "Epoch 9/100\n",
      "42/42 [==============================] - 0s 2ms/step - loss: 0.1016 - mean_absolute_error: 0.2053 - val_loss: 0.0835 - val_mean_absolute_error: 0.1815\n",
      "Epoch 10/100\n",
      "42/42 [==============================] - 0s 2ms/step - loss: 0.0793 - mean_absolute_error: 0.1788 - val_loss: 0.0685 - val_mean_absolute_error: 0.1705\n",
      "Epoch 11/100\n",
      "42/42 [==============================] - 0s 2ms/step - loss: 0.0672 - mean_absolute_error: 0.1738 - val_loss: 0.0748 - val_mean_absolute_error: 0.2062\n",
      "Epoch 12/100\n",
      "42/42 [==============================] - 0s 2ms/step - loss: 0.0526 - mean_absolute_error: 0.1542 - val_loss: 0.0440 - val_mean_absolute_error: 0.1474\n",
      "Epoch 13/100\n",
      "42/42 [==============================] - 0s 2ms/step - loss: 0.0429 - mean_absolute_error: 0.1439 - val_loss: 0.0337 - val_mean_absolute_error: 0.1179\n",
      "Epoch 14/100\n",
      "42/42 [==============================] - 0s 2ms/step - loss: 0.0331 - mean_absolute_error: 0.1239 - val_loss: 0.0258 - val_mean_absolute_error: 0.1070\n",
      "Epoch 15/100\n",
      "42/42 [==============================] - 0s 2ms/step - loss: 0.0250 - mean_absolute_error: 0.1084 - val_loss: 0.0208 - val_mean_absolute_error: 0.1002\n",
      "Epoch 16/100\n",
      "42/42 [==============================] - 0s 2ms/step - loss: 0.0196 - mean_absolute_error: 0.0962 - val_loss: 0.0162 - val_mean_absolute_error: 0.0904\n",
      "Epoch 17/100\n",
      "42/42 [==============================] - 0s 2ms/step - loss: 0.0151 - mean_absolute_error: 0.0859 - val_loss: 0.0134 - val_mean_absolute_error: 0.0829\n",
      "Epoch 18/100\n",
      "42/42 [==============================] - 0s 2ms/step - loss: 0.0122 - mean_absolute_error: 0.0802 - val_loss: 0.0126 - val_mean_absolute_error: 0.0872\n",
      "Epoch 19/100\n",
      "42/42 [==============================] - 0s 2ms/step - loss: 0.0096 - mean_absolute_error: 0.0721 - val_loss: 0.0081 - val_mean_absolute_error: 0.0696\n",
      "Epoch 20/100\n",
      "42/42 [==============================] - 0s 2ms/step - loss: 0.0072 - mean_absolute_error: 0.0628 - val_loss: 0.0056 - val_mean_absolute_error: 0.0540\n",
      "Epoch 21/100\n",
      "42/42 [==============================] - 0s 2ms/step - loss: 0.0059 - mean_absolute_error: 0.0587 - val_loss: 0.0048 - val_mean_absolute_error: 0.0525\n",
      "Epoch 22/100\n",
      "42/42 [==============================] - 0s 2ms/step - loss: 0.0044 - mean_absolute_error: 0.0495 - val_loss: 0.0041 - val_mean_absolute_error: 0.0494\n",
      "Epoch 23/100\n",
      "42/42 [==============================] - 0s 2ms/step - loss: 0.0033 - mean_absolute_error: 0.0419 - val_loss: 0.0029 - val_mean_absolute_error: 0.0395\n",
      "Epoch 24/100\n",
      "42/42 [==============================] - 0s 2ms/step - loss: 0.0026 - mean_absolute_error: 0.0377 - val_loss: 0.0026 - val_mean_absolute_error: 0.0382\n",
      "Epoch 25/100\n",
      "42/42 [==============================] - 0s 2ms/step - loss: 0.0024 - mean_absolute_error: 0.0367 - val_loss: 0.0022 - val_mean_absolute_error: 0.0337\n",
      "Epoch 26/100\n",
      "42/42 [==============================] - 0s 2ms/step - loss: 0.0019 - mean_absolute_error: 0.0322 - val_loss: 0.0019 - val_mean_absolute_error: 0.0310\n",
      "Epoch 27/100\n",
      "42/42 [==============================] - 0s 2ms/step - loss: 0.0017 - mean_absolute_error: 0.0298 - val_loss: 0.0019 - val_mean_absolute_error: 0.0329\n",
      "Epoch 28/100\n",
      "42/42 [==============================] - 0s 2ms/step - loss: 0.0015 - mean_absolute_error: 0.0278 - val_loss: 0.0015 - val_mean_absolute_error: 0.0278\n",
      "Epoch 29/100\n",
      "42/42 [==============================] - 0s 2ms/step - loss: 0.0014 - mean_absolute_error: 0.0271 - val_loss: 0.0013 - val_mean_absolute_error: 0.0250\n",
      "Epoch 30/100\n",
      "42/42 [==============================] - 0s 2ms/step - loss: 0.0013 - mean_absolute_error: 0.0261 - val_loss: 0.0012 - val_mean_absolute_error: 0.0241\n",
      "Epoch 31/100\n",
      "42/42 [==============================] - 0s 2ms/step - loss: 0.0012 - mean_absolute_error: 0.0256 - val_loss: 0.0017 - val_mean_absolute_error: 0.0334\n",
      "Epoch 32/100\n",
      "42/42 [==============================] - 0s 2ms/step - loss: 0.0013 - mean_absolute_error: 0.0276 - val_loss: 0.0010 - val_mean_absolute_error: 0.0226\n",
      "Epoch 33/100\n",
      "42/42 [==============================] - 0s 2ms/step - loss: 9.6364e-04 - mean_absolute_error: 0.0229 - val_loss: 8.5600e-04 - val_mean_absolute_error: 0.0206\n",
      "Epoch 34/100\n",
      "42/42 [==============================] - 0s 2ms/step - loss: 9.0932e-04 - mean_absolute_error: 0.0223 - val_loss: 0.0012 - val_mean_absolute_error: 0.0260\n",
      "Epoch 35/100\n",
      "42/42 [==============================] - 0s 2ms/step - loss: 7.3624e-04 - mean_absolute_error: 0.0192 - val_loss: 8.0702e-04 - val_mean_absolute_error: 0.0199\n",
      "Epoch 36/100\n",
      "42/42 [==============================] - 0s 3ms/step - loss: 6.4647e-04 - mean_absolute_error: 0.0178 - val_loss: 6.2943e-04 - val_mean_absolute_error: 0.0169\n",
      "Epoch 37/100\n",
      "42/42 [==============================] - 0s 2ms/step - loss: 6.3789e-04 - mean_absolute_error: 0.0179 - val_loss: 6.0104e-04 - val_mean_absolute_error: 0.0165\n",
      "Epoch 38/100\n",
      "42/42 [==============================] - 0s 2ms/step - loss: 5.5075e-04 - mean_absolute_error: 0.0164 - val_loss: 6.7719e-04 - val_mean_absolute_error: 0.0191\n",
      "Epoch 39/100\n",
      "42/42 [==============================] - 0s 2ms/step - loss: 8.1417e-04 - mean_absolute_error: 0.0219 - val_loss: 6.2870e-04 - val_mean_absolute_error: 0.0175\n",
      "Epoch 40/100\n",
      "42/42 [==============================] - 0s 2ms/step - loss: 8.5123e-04 - mean_absolute_error: 0.0228 - val_loss: 4.8237e-04 - val_mean_absolute_error: 0.0145\n",
      "Epoch 41/100\n",
      "42/42 [==============================] - 0s 2ms/step - loss: 5.3144e-04 - mean_absolute_error: 0.0168 - val_loss: 6.4923e-04 - val_mean_absolute_error: 0.0194\n",
      "Epoch 42/100\n",
      "42/42 [==============================] - 0s 2ms/step - loss: 6.7822e-04 - mean_absolute_error: 0.0197 - val_loss: 4.8379e-04 - val_mean_absolute_error: 0.0160\n",
      "Epoch 43/100\n",
      "42/42 [==============================] - 0s 2ms/step - loss: 4.8172e-04 - mean_absolute_error: 0.0158 - val_loss: 5.5223e-04 - val_mean_absolute_error: 0.0185\n",
      "Epoch 44/100\n",
      "42/42 [==============================] - 0s 2ms/step - loss: 5.6842e-04 - mean_absolute_error: 0.0181 - val_loss: 6.0258e-04 - val_mean_absolute_error: 0.0196\n",
      "Epoch 45/100\n",
      "42/42 [==============================] - 0s 2ms/step - loss: 4.0065e-04 - mean_absolute_error: 0.0141 - val_loss: 3.7174e-04 - val_mean_absolute_error: 0.0135\n",
      "Epoch 46/100\n",
      "42/42 [==============================] - 0s 2ms/step - loss: 4.0452e-04 - mean_absolute_error: 0.0148 - val_loss: 3.3213e-04 - val_mean_absolute_error: 0.0125\n",
      "Epoch 47/100\n",
      "42/42 [==============================] - 0s 2ms/step - loss: 3.8714e-04 - mean_absolute_error: 0.0144 - val_loss: 3.8794e-04 - val_mean_absolute_error: 0.0133\n",
      "Epoch 48/100\n",
      "42/42 [==============================] - 0s 2ms/step - loss: 3.2728e-04 - mean_absolute_error: 0.0128 - val_loss: 3.0705e-04 - val_mean_absolute_error: 0.0124\n",
      "Epoch 49/100\n",
      "42/42 [==============================] - 0s 2ms/step - loss: 3.5547e-04 - mean_absolute_error: 0.0140 - val_loss: 2.6065e-04 - val_mean_absolute_error: 0.0106\n",
      "Epoch 50/100\n",
      "42/42 [==============================] - 0s 2ms/step - loss: 4.9034e-04 - mean_absolute_error: 0.0170 - val_loss: 3.3857e-04 - val_mean_absolute_error: 0.0145\n",
      "Epoch 51/100\n",
      "42/42 [==============================] - 0s 2ms/step - loss: 5.3338e-04 - mean_absolute_error: 0.0180 - val_loss: 2.5231e-04 - val_mean_absolute_error: 0.0115\n",
      "Epoch 52/100\n",
      "42/42 [==============================] - 0s 2ms/step - loss: 3.6353e-04 - mean_absolute_error: 0.0144 - val_loss: 0.0012 - val_mean_absolute_error: 0.0313\n",
      "Epoch 53/100\n",
      "42/42 [==============================] - 0s 2ms/step - loss: 0.0019 - mean_absolute_error: 0.0369 - val_loss: 0.0086 - val_mean_absolute_error: 0.0911\n",
      "Epoch 54/100\n",
      "42/42 [==============================] - 0s 2ms/step - loss: 0.0046 - mean_absolute_error: 0.0591 - val_loss: 0.0104 - val_mean_absolute_error: 0.0994\n",
      "Epoch 55/100\n",
      "42/42 [==============================] - 0s 2ms/step - loss: 0.0017 - mean_absolute_error: 0.0327 - val_loss: 0.0013 - val_mean_absolute_error: 0.0338\n",
      "Epoch 56/100\n",
      "42/42 [==============================] - 0s 2ms/step - loss: 0.0037 - mean_absolute_error: 0.0503 - val_loss: 0.0046 - val_mean_absolute_error: 0.0626\n",
      "Epoch 57/100\n",
      "42/42 [==============================] - 0s 2ms/step - loss: 0.0374 - mean_absolute_error: 0.1622 - val_loss: 0.0215 - val_mean_absolute_error: 0.1432\n",
      "Epoch 58/100\n",
      "42/42 [==============================] - 0s 2ms/step - loss: 0.0084 - mean_absolute_error: 0.0717 - val_loss: 0.0071 - val_mean_absolute_error: 0.0818\n",
      "Epoch 59/100\n",
      "42/42 [==============================] - 0s 2ms/step - loss: 0.0035 - mean_absolute_error: 0.0498 - val_loss: 4.4103e-04 - val_mean_absolute_error: 0.0161\n",
      "Epoch 60/100\n",
      "42/42 [==============================] - 0s 2ms/step - loss: 0.0012 - mean_absolute_error: 0.0288 - val_loss: 0.0018 - val_mean_absolute_error: 0.0406\n",
      "Epoch 61/100\n",
      "42/42 [==============================] - 0s 2ms/step - loss: 0.0357 - mean_absolute_error: 0.1238 - val_loss: 0.0986 - val_mean_absolute_error: 0.3106\n",
      "Epoch 62/100\n",
      "42/42 [==============================] - 0s 2ms/step - loss: 0.0200 - mean_absolute_error: 0.1160 - val_loss: 0.0115 - val_mean_absolute_error: 0.1035\n",
      "Epoch 63/100\n",
      "42/42 [==============================] - 0s 2ms/step - loss: 0.0034 - mean_absolute_error: 0.0491 - val_loss: 0.0024 - val_mean_absolute_error: 0.0469\n",
      "Epoch 64/100\n",
      "42/42 [==============================] - 0s 2ms/step - loss: 0.0019 - mean_absolute_error: 0.0370 - val_loss: 0.0136 - val_mean_absolute_error: 0.1158\n",
      "Epoch 65/100\n",
      "42/42 [==============================] - 0s 2ms/step - loss: 0.0350 - mean_absolute_error: 0.1471 - val_loss: 0.0371 - val_mean_absolute_error: 0.1853\n",
      "Epoch 66/100\n",
      "42/42 [==============================] - 0s 2ms/step - loss: 0.0079 - mean_absolute_error: 0.0695 - val_loss: 5.8974e-04 - val_mean_absolute_error: 0.0212\n",
      "Epoch 67/100\n",
      "42/42 [==============================] - 0s 2ms/step - loss: 0.0043 - mean_absolute_error: 0.0572 - val_loss: 4.0476e-04 - val_mean_absolute_error: 0.0164\n",
      "Epoch 68/100\n",
      "42/42 [==============================] - 0s 2ms/step - loss: 0.0265 - mean_absolute_error: 0.1313 - val_loss: 0.1041 - val_mean_absolute_error: 0.3186\n",
      "Epoch 69/100\n",
      "42/42 [==============================] - 0s 2ms/step - loss: 0.0171 - mean_absolute_error: 0.1113 - val_loss: 0.0127 - val_mean_absolute_error: 0.1096\n",
      "Epoch 70/100\n",
      "42/42 [==============================] - 0s 2ms/step - loss: 0.0141 - mean_absolute_error: 0.1008 - val_loss: 0.0072 - val_mean_absolute_error: 0.0832\n",
      "Epoch 71/100\n",
      "42/42 [==============================] - 0s 2ms/step - loss: 0.0118 - mean_absolute_error: 0.0897 - val_loss: 0.0329 - val_mean_absolute_error: 0.1799\n",
      "Epoch 72/100\n",
      "42/42 [==============================] - 0s 2ms/step - loss: 0.0182 - mean_absolute_error: 0.1059 - val_loss: 0.0010 - val_mean_absolute_error: 0.0288\n",
      "Epoch 73/100\n",
      "42/42 [==============================] - 0s 2ms/step - loss: 0.0032 - mean_absolute_error: 0.0444 - val_loss: 0.0131 - val_mean_absolute_error: 0.1118\n",
      "Epoch 74/100\n",
      "42/42 [==============================] - 0s 2ms/step - loss: 0.1342 - mean_absolute_error: 0.2772 - val_loss: 0.0163 - val_mean_absolute_error: 0.1200\n",
      "Epoch 75/100\n",
      "42/42 [==============================] - 0s 2ms/step - loss: 0.0034 - mean_absolute_error: 0.0440 - val_loss: 9.7468e-04 - val_mean_absolute_error: 0.0272\n",
      "Epoch 76/100\n",
      "42/42 [==============================] - 0s 2ms/step - loss: 6.1046e-04 - mean_absolute_error: 0.0198 - val_loss: 2.1941e-04 - val_mean_absolute_error: 0.0117\n",
      "Epoch 77/100\n",
      "42/42 [==============================] - 0s 2ms/step - loss: 6.1176e-04 - mean_absolute_error: 0.0197 - val_loss: 3.8994e-04 - val_mean_absolute_error: 0.0170\n",
      "Epoch 78/100\n",
      "42/42 [==============================] - 0s 2ms/step - loss: 8.3819e-04 - mean_absolute_error: 0.0244 - val_loss: 1.4041e-04 - val_mean_absolute_error: 0.0086\n",
      "Epoch 79/100\n",
      "42/42 [==============================] - 0s 2ms/step - loss: 3.6911e-04 - mean_absolute_error: 0.0156 - val_loss: 5.0588e-04 - val_mean_absolute_error: 0.0204\n",
      "Epoch 80/100\n",
      "42/42 [==============================] - 0s 2ms/step - loss: 0.0046 - mean_absolute_error: 0.0578 - val_loss: 5.4467e-04 - val_mean_absolute_error: 0.0172\n",
      "Epoch 81/100\n",
      "42/42 [==============================] - 0s 2ms/step - loss: 0.0233 - mean_absolute_error: 0.0971 - val_loss: 0.1653 - val_mean_absolute_error: 0.3875\n",
      "Epoch 82/100\n",
      "42/42 [==============================] - 0s 2ms/step - loss: 0.0282 - mean_absolute_error: 0.1215 - val_loss: 0.0231 - val_mean_absolute_error: 0.1501\n",
      "Epoch 83/100\n",
      "42/42 [==============================] - 0s 2ms/step - loss: 0.0102 - mean_absolute_error: 0.0862 - val_loss: 0.0039 - val_mean_absolute_error: 0.0571\n",
      "Epoch 84/100\n",
      "42/42 [==============================] - 0s 2ms/step - loss: 0.0150 - mean_absolute_error: 0.1038 - val_loss: 9.7818e-04 - val_mean_absolute_error: 0.0285\n",
      "Epoch 85/100\n",
      "42/42 [==============================] - 0s 2ms/step - loss: 0.0033 - mean_absolute_error: 0.0467 - val_loss: 0.0179 - val_mean_absolute_error: 0.1319\n",
      "Epoch 86/100\n",
      "42/42 [==============================] - 0s 2ms/step - loss: 0.0058 - mean_absolute_error: 0.0651 - val_loss: 0.0053 - val_mean_absolute_error: 0.0715\n",
      "Epoch 87/100\n",
      "42/42 [==============================] - 0s 2ms/step - loss: 0.0807 - mean_absolute_error: 0.2244 - val_loss: 0.0412 - val_mean_absolute_error: 0.2013\n",
      "Epoch 88/100\n",
      "42/42 [==============================] - 0s 2ms/step - loss: 0.0111 - mean_absolute_error: 0.0777 - val_loss: 3.8471e-04 - val_mean_absolute_error: 0.0149\n",
      "Epoch 89/100\n",
      "42/42 [==============================] - 0s 2ms/step - loss: 5.1194e-04 - mean_absolute_error: 0.0183 - val_loss: 0.0013 - val_mean_absolute_error: 0.0343\n",
      "Epoch 90/100\n",
      "42/42 [==============================] - 0s 2ms/step - loss: 5.5254e-04 - mean_absolute_error: 0.0195 - val_loss: 2.9488e-04 - val_mean_absolute_error: 0.0143\n",
      "Epoch 91/100\n",
      "42/42 [==============================] - 0s 2ms/step - loss: 0.0016 - mean_absolute_error: 0.0342 - val_loss: 0.0019 - val_mean_absolute_error: 0.0414\n",
      "Epoch 92/100\n",
      "42/42 [==============================] - 0s 2ms/step - loss: 0.0241 - mean_absolute_error: 0.1190 - val_loss: 0.0085 - val_mean_absolute_error: 0.0643\n",
      "Epoch 93/100\n",
      "42/42 [==============================] - 0s 2ms/step - loss: 0.0091 - mean_absolute_error: 0.0834 - val_loss: 4.5724e-04 - val_mean_absolute_error: 0.0169\n",
      "Epoch 94/100\n",
      "42/42 [==============================] - 0s 2ms/step - loss: 0.0111 - mean_absolute_error: 0.0906 - val_loss: 0.0019 - val_mean_absolute_error: 0.0380\n",
      "Epoch 95/100\n",
      "42/42 [==============================] - 0s 2ms/step - loss: 0.0183 - mean_absolute_error: 0.1216 - val_loss: 0.0076 - val_mean_absolute_error: 0.0803\n",
      "Epoch 96/100\n",
      "42/42 [==============================] - 0s 2ms/step - loss: 0.0255 - mean_absolute_error: 0.1252 - val_loss: 0.0034 - val_mean_absolute_error: 0.0429\n",
      "Epoch 97/100\n",
      "42/42 [==============================] - 0s 2ms/step - loss: 0.0264 - mean_absolute_error: 0.1339 - val_loss: 0.0068 - val_mean_absolute_error: 0.0748\n",
      "Epoch 98/100\n",
      "42/42 [==============================] - 0s 2ms/step - loss: 0.0018 - mean_absolute_error: 0.0351 - val_loss: 0.0015 - val_mean_absolute_error: 0.0362\n",
      "Epoch 99/100\n",
      "42/42 [==============================] - 0s 2ms/step - loss: 0.0026 - mean_absolute_error: 0.0436 - val_loss: 0.0018 - val_mean_absolute_error: 0.0378\n",
      "Epoch 100/100\n",
      "42/42 [==============================] - 0s 2ms/step - loss: 0.0069 - mean_absolute_error: 0.0666 - val_loss: 0.0016 - val_mean_absolute_error: 0.0346\n"
     ]
    }
   ],
   "source": [
    "# 모델 학습\n",
    "history = model.fit(X_sub, y_sub, validation_data=(X_val, y_val), epochs=100, batch_size=100)"
   ]
  },
  {
   "cell_type": "code",
   "execution_count": 24,
   "id": "42893793-e692-40c8-88bb-df2d515523fc",
   "metadata": {
    "execution": {
     "iopub.execute_input": "2024-07-24T01:39:35.659830Z",
     "iopub.status.busy": "2024-07-24T01:39:35.659830Z",
     "iopub.status.idle": "2024-07-24T01:39:35.674047Z",
     "shell.execute_reply": "2024-07-24T01:39:35.674047Z",
     "shell.execute_reply.started": "2024-07-24T01:39:35.659830Z"
    }
   },
   "outputs": [],
   "source": [
    "#### 10. 학습 결과 시각화:"
   ]
  },
  {
   "cell_type": "code",
   "execution_count": 25,
   "id": "3eaa13f6-d08e-466f-89c4-e150a36377bd",
   "metadata": {
    "execution": {
     "iopub.execute_input": "2024-07-24T01:39:35.674997Z",
     "iopub.status.busy": "2024-07-24T01:39:35.674997Z",
     "iopub.status.idle": "2024-07-24T01:39:35.815901Z",
     "shell.execute_reply": "2024-07-24T01:39:35.815901Z",
     "shell.execute_reply.started": "2024-07-24T01:39:35.674997Z"
    },
    "scrolled": true
   },
   "outputs": [
    {
     "data": {
      "image/png": "[encoded data removed]",
      "text/plain": [
       "<Figure size 1000x500 with 2 Axes>"
      ]
     },
     "metadata": {},
     "output_type": "display_data"
    }
   ],
   "source": [
    "# 학습 결과 시각화\n",
    "plt.figure(figsize=(10, 5))\n",
    "\n",
    "# subplot 1: Mean Squared Error 손실 함수의 변화\n",
    "plt.subplot(1, 2, 1)\n",
    "plt.plot(history.history['loss'], label='Train Loss')\n",
    "plt.plot(history.history['val_loss'], label='Val Loss')\n",
    "plt.title('Mean Squared Error')\n",
    "plt.xlabel('Epochs')\n",
    "plt.ylabel('Loss')\n",
    "plt.legend()\n",
    "\n",
    "# subplot 2: Mean Absolute Error 매트릭스의 변화\n",
    "plt.subplot(1, 2, 2)\n",
    "plt.plot(history.history['mean_absolute_error'], label='Train MAE')\n",
    "plt.plot(history.history['val_mean_absolute_error'], label='Val MAE')\n",
    "plt.title('Mean Absolute Error')\n",
    "plt.xlabel('Epochs')\n",
    "plt.ylabel('Error')\n",
    "plt.legend()\n",
    "\n",
    "plt.show()"
   ]
  },
  {
   "cell_type": "code",
   "execution_count": 35,
   "id": "9ebe5c2f-88ec-4b7c-b74f-e0ac82c8357b",
   "metadata": {
    "execution": {
     "iopub.execute_input": "2024-07-24T01:45:15.295927Z",
     "iopub.status.busy": "2024-07-24T01:45:15.295927Z",
     "iopub.status.idle": "2024-07-24T01:45:15.305568Z",
     "shell.execute_reply": "2024-07-24T01:45:15.305568Z",
     "shell.execute_reply.started": "2024-07-24T01:45:15.295927Z"
    },
    "scrolled": true
   },
   "outputs": [
    {
     "name": "stdout",
     "output_type": "stream",
     "text": [
      "Epoch 1: Loss (MSE) = 16.8392, MAE = 2.8333\n",
      "Epoch 2: Loss (MSE) = 0.8186, MAE = 0.6698\n",
      "Epoch 3: Loss (MSE) = 0.4494, MAE = 0.4758\n",
      "Epoch 4: Loss (MSE) = 0.3168, MAE = 0.3934\n",
      "Epoch 5: Loss (MSE) = 0.2414, MAE = 0.3356\n",
      "Epoch 6: Loss (MSE) = 0.1850, MAE = 0.2814\n",
      "Epoch 7: Loss (MSE) = 0.1523, MAE = 0.2495\n",
      "Epoch 8: Loss (MSE) = 0.1166, MAE = 0.2066\n",
      "Epoch 9: Loss (MSE) = 0.1016, MAE = 0.2053\n",
      "Epoch 10: Loss (MSE) = 0.0793, MAE = 0.1788\n",
      "Epoch 11: Loss (MSE) = 0.0672, MAE = 0.1738\n",
      "Epoch 12: Loss (MSE) = 0.0526, MAE = 0.1542\n",
      "Epoch 13: Loss (MSE) = 0.0429, MAE = 0.1439\n",
      "Epoch 14: Loss (MSE) = 0.0331, MAE = 0.1239\n",
      "Epoch 15: Loss (MSE) = 0.0250, MAE = 0.1084\n",
      "Epoch 16: Loss (MSE) = 0.0196, MAE = 0.0962\n",
      "Epoch 17: Loss (MSE) = 0.0151, MAE = 0.0859\n",
      "Epoch 18: Loss (MSE) = 0.0122, MAE = 0.0802\n",
      "Epoch 19: Loss (MSE) = 0.0096, MAE = 0.0721\n",
      "Epoch 20: Loss (MSE) = 0.0072, MAE = 0.0628\n",
      "Epoch 21: Loss (MSE) = 0.0059, MAE = 0.0587\n",
      "Epoch 22: Loss (MSE) = 0.0044, MAE = 0.0495\n",
      "Epoch 23: Loss (MSE) = 0.0033, MAE = 0.0419\n",
      "Epoch 24: Loss (MSE) = 0.0026, MAE = 0.0377\n",
      "Epoch 25: Loss (MSE) = 0.0024, MAE = 0.0367\n",
      "Epoch 26: Loss (MSE) = 0.0019, MAE = 0.0322\n",
      "Epoch 27: Loss (MSE) = 0.0017, MAE = 0.0298\n",
      "Epoch 28: Loss (MSE) = 0.0015, MAE = 0.0278\n",
      "Epoch 29: Loss (MSE) = 0.0014, MAE = 0.0271\n",
      "Epoch 30: Loss (MSE) = 0.0013, MAE = 0.0261\n",
      "Epoch 31: Loss (MSE) = 0.0012, MAE = 0.0256\n",
      "Epoch 32: Loss (MSE) = 0.0013, MAE = 0.0276\n",
      "Epoch 33: Loss (MSE) = 0.0010, MAE = 0.0229\n",
      "Epoch 34: Loss (MSE) = 0.0009, MAE = 0.0223\n",
      "Epoch 35: Loss (MSE) = 0.0007, MAE = 0.0192\n",
      "Epoch 36: Loss (MSE) = 0.0006, MAE = 0.0178\n",
      "Epoch 37: Loss (MSE) = 0.0006, MAE = 0.0179\n",
      "Epoch 38: Loss (MSE) = 0.0006, MAE = 0.0164\n",
      "Epoch 39: Loss (MSE) = 0.0008, MAE = 0.0219\n",
      "Epoch 40: Loss (MSE) = 0.0009, MAE = 0.0228\n",
      "Epoch 41: Loss (MSE) = 0.0005, MAE = 0.0168\n",
      "Epoch 42: Loss (MSE) = 0.0007, MAE = 0.0197\n",
      "Epoch 43: Loss (MSE) = 0.0005, MAE = 0.0158\n",
      "Epoch 44: Loss (MSE) = 0.0006, MAE = 0.0181\n",
      "Epoch 45: Loss (MSE) = 0.0004, MAE = 0.0141\n",
      "Epoch 46: Loss (MSE) = 0.0004, MAE = 0.0148\n",
      "Epoch 47: Loss (MSE) = 0.0004, MAE = 0.0144\n",
      "Epoch 48: Loss (MSE) = 0.0003, MAE = 0.0128\n",
      "Epoch 49: Loss (MSE) = 0.0004, MAE = 0.0140\n",
      "Epoch 50: Loss (MSE) = 0.0005, MAE = 0.0170\n",
      "Epoch 51: Loss (MSE) = 0.0005, MAE = 0.0180\n",
      "Epoch 52: Loss (MSE) = 0.0004, MAE = 0.0144\n",
      "Epoch 53: Loss (MSE) = 0.0019, MAE = 0.0369\n",
      "Epoch 54: Loss (MSE) = 0.0046, MAE = 0.0591\n",
      "Epoch 55: Loss (MSE) = 0.0017, MAE = 0.0327\n",
      "Epoch 56: Loss (MSE) = 0.0037, MAE = 0.0503\n",
      "Epoch 57: Loss (MSE) = 0.0374, MAE = 0.1622\n",
      "Epoch 58: Loss (MSE) = 0.0084, MAE = 0.0717\n",
      "Epoch 59: Loss (MSE) = 0.0035, MAE = 0.0498\n",
      "Epoch 60: Loss (MSE) = 0.0012, MAE = 0.0288\n",
      "Epoch 61: Loss (MSE) = 0.0357, MAE = 0.1238\n",
      "Epoch 62: Loss (MSE) = 0.0200, MAE = 0.1160\n",
      "Epoch 63: Loss (MSE) = 0.0034, MAE = 0.0491\n",
      "Epoch 64: Loss (MSE) = 0.0019, MAE = 0.0370\n",
      "Epoch 65: Loss (MSE) = 0.0350, MAE = 0.1471\n",
      "Epoch 66: Loss (MSE) = 0.0079, MAE = 0.0695\n",
      "Epoch 67: Loss (MSE) = 0.0043, MAE = 0.0572\n",
      "Epoch 68: Loss (MSE) = 0.0265, MAE = 0.1313\n",
      "Epoch 69: Loss (MSE) = 0.0171, MAE = 0.1113\n",
      "Epoch 70: Loss (MSE) = 0.0141, MAE = 0.1008\n",
      "Epoch 71: Loss (MSE) = 0.0118, MAE = 0.0897\n",
      "Epoch 72: Loss (MSE) = 0.0182, MAE = 0.1059\n",
      "Epoch 73: Loss (MSE) = 0.0032, MAE = 0.0444\n",
      "Epoch 74: Loss (MSE) = 0.1342, MAE = 0.2772\n",
      "Epoch 75: Loss (MSE) = 0.0034, MAE = 0.0440\n",
      "Epoch 76: Loss (MSE) = 0.0006, MAE = 0.0198\n",
      "Epoch 77: Loss (MSE) = 0.0006, MAE = 0.0197\n",
      "Epoch 78: Loss (MSE) = 0.0008, MAE = 0.0244\n",
      "Epoch 79: Loss (MSE) = 0.0004, MAE = 0.0156\n",
      "Epoch 80: Loss (MSE) = 0.0046, MAE = 0.0578\n",
      "Epoch 81: Loss (MSE) = 0.0233, MAE = 0.0971\n",
      "Epoch 82: Loss (MSE) = 0.0282, MAE = 0.1215\n",
      "Epoch 83: Loss (MSE) = 0.0102, MAE = 0.0862\n",
      "Epoch 84: Loss (MSE) = 0.0150, MAE = 0.1038\n",
      "Epoch 85: Loss (MSE) = 0.0033, MAE = 0.0467\n",
      "Epoch 86: Loss (MSE) = 0.0058, MAE = 0.0651\n",
      "Epoch 87: Loss (MSE) = 0.0807, MAE = 0.2244\n",
      "Epoch 88: Loss (MSE) = 0.0111, MAE = 0.0777\n",
      "Epoch 89: Loss (MSE) = 0.0005, MAE = 0.0183\n",
      "Epoch 90: Loss (MSE) = 0.0006, MAE = 0.0195\n",
      "Epoch 91: Loss (MSE) = 0.0016, MAE = 0.0342\n",
      "Epoch 92: Loss (MSE) = 0.0241, MAE = 0.1190\n",
      "Epoch 93: Loss (MSE) = 0.0091, MAE = 0.0834\n",
      "Epoch 94: Loss (MSE) = 0.0111, MAE = 0.0906\n",
      "Epoch 95: Loss (MSE) = 0.0183, MAE = 0.1216\n",
      "Epoch 96: Loss (MSE) = 0.0255, MAE = 0.1252\n",
      "Epoch 97: Loss (MSE) = 0.0264, MAE = 0.1339\n",
      "Epoch 98: Loss (MSE) = 0.0018, MAE = 0.0351\n",
      "Epoch 99: Loss (MSE) = 0.0026, MAE = 0.0436\n",
      "Epoch 100: Loss (MSE) = 0.0069, MAE = 0.0666\n"
     ]
    }
   ],
   "source": [
    "# 손실 함수와 평균 절대 오차 값을 가져오기\n",
    "loss_values = history.history['loss']\n",
    "mean_absolute_error_values = history.history['mean_absolute_error']\n",
    "mean_absolute_error_values = history.history['mean_absolute_error'] # 결정계수 r^2 \n",
    "\n",
    "# 에포크 수\n",
    "epochs = len(loss_values)\n",
    "\n",
    "# 결과 출력\n",
    "for epoch in range(epochs):\n",
    "    print(f\"Epoch {epoch + 1}: Loss (MSE) = {loss_values[epoch]:.4f}, MAE = {mean_absolute_error_values[epoch]:.4f}\")"
   ]
  },
  {
   "cell_type": "code",
   "execution_count": 36,
   "id": "d071ef62-dfcf-48d6-b12b-759510830136",
   "metadata": {
    "execution": {
     "iopub.execute_input": "2024-07-24T01:48:00.705891Z",
     "iopub.status.busy": "2024-07-24T01:48:00.705891Z",
     "iopub.status.idle": "2024-07-24T01:48:00.970115Z",
     "shell.execute_reply": "2024-07-24T01:48:00.970115Z",
     "shell.execute_reply.started": "2024-07-24T01:48:00.705891Z"
    }
   },
   "outputs": [
    {
     "name": "stdout",
     "output_type": "stream",
     "text": [
      "33/33 [==============================] - 0s 917us/step\n",
      "결정계수 (R²): 0.9999\n",
      "Mean Absolute Error (MAE): 0.0346\n",
      "Mean Absolute Percentage Error (MAPE): 21.6240%\n",
      "Root Mean Squared Error (RMSE): 0.0394\n",
      "Mean Bias Deviation (MBD): 0.0344\n",
      "Adjusted R²: 0.9999\n"
     ]
    }
   ],
   "source": [
    "from sklearn.metrics import mean_absolute_error, mean_squared_error, r2_score\n",
    "import numpy as np\n",
    "\n",
    "# 예측값 생성\n",
    "predictions = model.predict(X_val)\n",
    "\n",
    "# 결정계수 (R²) 계산\n",
    "r2 = r2_score(y_val, predictions)\n",
    "print(f\"결정계수 (R²): {r2:.4f}\")\n",
    "\n",
    "# Mean Absolute Error (MAE) 계산\n",
    "mae = mean_absolute_error(y_val, predictions)\n",
    "print(f\"Mean Absolute Error (MAE): {mae:.4f}\")\n",
    "\n",
    "# Mean Absolute Percentage Error (MAPE) 계산\n",
    "mape = np.mean(np.abs((y_val - predictions) / y_val)) * 100\n",
    "print(f\"Mean Absolute Percentage Error (MAPE): {mape:.4f}%\")\n",
    "\n",
    "# Root Mean Squared Error (RMSE) 계산\n",
    "rmse = np.sqrt(mean_squared_error(y_val, predictions))\n",
    "print(f\"Root Mean Squared Error (RMSE): {rmse:.4f}\")\n",
    "\n",
    "# Mean Bias Deviation (MBD) 계산\n",
    "mbd = np.mean(predictions - y_val)\n",
    "print(f\"Mean Bias Deviation (MBD): {mbd:.4f}\")\n",
    "\n",
    "# Adjusted R² 계산\n",
    "n = len(y_val)  # 샘플 수\n",
    "p = X_val.shape[1]  # 독립 변수 수\n",
    "adjusted_r2 = 1 - (1 - r2) * (n - 1) / (n - p - 1)\n",
    "print(f\"Adjusted R²: {adjusted_r2:.4f}\")"
   ]
  },
  {
   "cell_type": "code",
   "execution_count": null,
   "id": "4bac5cd6-0799-4154-aa51-184cb13f2754",
   "metadata": {},
   "outputs": [],
   "source": [
    "# scaled \n",
    "# train test로 확인\n",
    "#,"
   ]
  }
 ],
 "metadata": {
  "kernelspec": {
   "display_name": "Python 3 (ipykernel)",
   "language": "python",
   "name": "python3"
  },
  "language_info": {
   "codemirror_mode": {
    "name": "ipython",
    "version": 3
   },
   "file_extension": ".py",
   "mimetype": "text/x-python",
   "name": "python",
   "nbconvert_exporter": "python",
   "pygments_lexer": "ipython3",
   "version": "3.12.3"
  }
 },
 "nbformat": 4,
 "nbformat_minor": 5
}
