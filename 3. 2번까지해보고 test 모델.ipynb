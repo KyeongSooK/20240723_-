{
 "cells": [
  {
   "cell_type": "code",
   "execution_count": null,
   "id": "b5434383-235d-4a1a-9fb1-4887ab3af27d",
   "metadata": {},
   "outputs": [],
   "source": []
  },
  {
   "cell_type": "code",
   "execution_count": 1,
   "id": "00f6e996-abc7-4633-bd03-df337c0e1f5c",
   "metadata": {
    "execution": {
     "iopub.execute_input": "2024-07-23T09:10:29.409315Z",
     "iopub.status.busy": "2024-07-23T09:10:29.409315Z",
     "iopub.status.idle": "2024-07-23T09:10:30.298407Z",
     "shell.execute_reply": "2024-07-23T09:10:30.298407Z",
     "shell.execute_reply.started": "2024-07-23T09:10:29.409315Z"
    }
   },
   "outputs": [],
   "source": [
    "import torch # 사용안하면 run all cells하다가 마지막에 리스타트 오류남."
   ]
  },
  {
   "cell_type": "code",
   "execution_count": 2,
   "id": "265c1c21-2e88-4344-a8e0-fc29afe1da72",
   "metadata": {
    "execution": {
     "iopub.execute_input": "2024-07-23T09:10:32.319582Z",
     "iopub.status.busy": "2024-07-23T09:10:32.318691Z",
     "iopub.status.idle": "2024-07-23T09:10:32.346943Z",
     "shell.execute_reply": "2024-07-23T09:10:32.346943Z",
     "shell.execute_reply.started": "2024-07-23T09:10:32.319582Z"
    }
   },
   "outputs": [
    {
     "name": "stdout",
     "output_type": "stream",
     "text": [
      "CUDA(GPU)를 사용합니다.\n"
     ]
    }
   ],
   "source": [
    "# 사용안하면 run all cells하다가 마지막에 리스타트 오류남.\n",
    "# CPU 에서 GPU 활성 하기\n",
    "if torch.cuda.is_available():\n",
    "    device = torch.device(\"cuda\") # 목적지가 cuda device에 설정된다.\n",
    "    print(\"CUDA(GPU)를 사용합니다.\")\n",
    "else:\n",
    "    device = torch.device(\"cpu\")\n",
    "    print(\"CUDA(GPU)를 사용할 수 없으므로, cpu를 사용합니다.\")"
   ]
  },
  {
   "cell_type": "code",
   "execution_count": null,
   "id": "e0d826f9-0463-4301-a94e-b63abe33e676",
   "metadata": {},
   "outputs": [],
   "source": [
    "# 1번 제외 하고 2번에서 "
   ]
  },
  {
   "cell_type": "code",
   "execution_count": 24,
   "id": "4fc5a761-98d0-4570-900f-086995c84467",
   "metadata": {
    "execution": {
     "iopub.execute_input": "2024-07-23T10:20:14.575459Z",
     "iopub.status.busy": "2024-07-23T10:20:14.575459Z",
     "iopub.status.idle": "2024-07-23T10:20:14.580918Z",
     "shell.execute_reply": "2024-07-23T10:20:14.580918Z",
     "shell.execute_reply.started": "2024-07-23T10:20:14.575459Z"
    }
   },
   "outputs": [],
   "source": [
    "# 패키지 사용\n",
    "import tensorflow as tf\n",
    "import pandas as pd\n",
    "import numpy as np\n",
    "import matplotlib.pyplot as plt"
   ]
  },
  {
   "cell_type": "code",
   "execution_count": 25,
   "id": "282dbeda-e28d-43a2-be5f-b527ffb05d62",
   "metadata": {
    "execution": {
     "iopub.execute_input": "2024-07-23T10:20:15.498441Z",
     "iopub.status.busy": "2024-07-23T10:20:15.498441Z",
     "iopub.status.idle": "2024-07-23T10:20:15.629169Z",
     "shell.execute_reply": "2024-07-23T10:20:15.629169Z",
     "shell.execute_reply.started": "2024-07-23T10:20:15.498441Z"
    }
   },
   "outputs": [
    {
     "name": "stderr",
     "output_type": "stream",
     "text": [
      "C:\\Users\\user\\AppData\\Local\\Temp\\ipykernel_1772\\3691594242.py:1: DtypeWarning: Columns (4,5,6,7,8,9,10,11) have mixed types. Specify dtype option on import or set low_memory=False.\n",
      "  df = pd.read_csv('./encoded_data.csv')\n"
     ]
    }
   ],
   "source": [
    "df = pd.read_csv('./encoded_data.csv')"
   ]
  },
  {
   "cell_type": "code",
   "execution_count": 26,
   "id": "f07629e5-be85-48d5-8c25-d18a72049605",
   "metadata": {
    "execution": {
     "iopub.execute_input": "2024-07-23T10:20:17.908964Z",
     "iopub.status.busy": "2024-07-23T10:20:17.908964Z",
     "iopub.status.idle": "2024-07-23T10:20:17.937415Z",
     "shell.execute_reply": "2024-07-23T10:20:17.937415Z",
     "shell.execute_reply.started": "2024-07-23T10:20:17.908964Z"
    }
   },
   "outputs": [],
   "source": [
    "# change_date 열을 제외한 나머지 열 선택\n",
    "X = df.drop(columns=['change_date']).values\n",
    "y = df['change_date'].values # 예측값"
   ]
  },
  {
   "cell_type": "code",
   "execution_count": 27,
   "id": "31d96143-8185-40c1-adbb-218264a2c494",
   "metadata": {
    "execution": {
     "iopub.execute_input": "2024-07-23T10:20:18.573112Z",
     "iopub.status.busy": "2024-07-23T10:20:18.573112Z",
     "iopub.status.idle": "2024-07-23T10:20:18.584060Z",
     "shell.execute_reply": "2024-07-23T10:20:18.584060Z",
     "shell.execute_reply.started": "2024-07-23T10:20:18.573112Z"
    }
   },
   "outputs": [
    {
     "data": {
      "text/plain": [
       "(6476, 291)"
      ]
     },
     "execution_count": 27,
     "metadata": {},
     "output_type": "execute_result"
    }
   ],
   "source": [
    "X.shape # ( 행, 열 확인 )"
   ]
  },
  {
   "cell_type": "code",
   "execution_count": 36,
   "id": "d739c973-517a-4b49-aec3-f71f261507c7",
   "metadata": {
    "execution": {
     "iopub.execute_input": "2024-07-23T11:53:17.376318Z",
     "iopub.status.busy": "2024-07-23T11:53:17.375318Z",
     "iopub.status.idle": "2024-07-23T11:53:17.394450Z",
     "shell.execute_reply": "2024-07-23T11:53:17.394450Z",
     "shell.execute_reply.started": "2024-07-23T11:53:17.376318Z"
    }
   },
   "outputs": [
    {
     "data": {
      "text/plain": [
       "291"
      ]
     },
     "execution_count": 36,
     "metadata": {},
     "output_type": "execute_result"
    }
   ],
   "source": [
    "X.shape[1]"
   ]
  },
  {
   "cell_type": "code",
   "execution_count": 28,
   "id": "33429267-70c8-49e8-b8b2-94f256408158",
   "metadata": {
    "execution": {
     "iopub.execute_input": "2024-07-23T10:20:19.453454Z",
     "iopub.status.busy": "2024-07-23T10:20:19.453454Z",
     "iopub.status.idle": "2024-07-23T10:20:19.469116Z",
     "shell.execute_reply": "2024-07-23T10:20:19.469116Z",
     "shell.execute_reply.started": "2024-07-23T10:20:19.453454Z"
    }
   },
   "outputs": [
    {
     "data": {
      "text/plain": [
       "0       25\n",
       "1       25\n",
       "2       25\n",
       "3       25\n",
       "4       25\n",
       "        ..\n",
       "6471    27\n",
       "6472    27\n",
       "6473    27\n",
       "6474    27\n",
       "6475    27\n",
       "Name: change_date, Length: 6476, dtype: int64"
      ]
     },
     "execution_count": 28,
     "metadata": {},
     "output_type": "execute_result"
    }
   ],
   "source": [
    "len(df.columns) # 총 특성 갯수 292\n",
    "df['change_date']"
   ]
  },
  {
   "cell_type": "code",
   "execution_count": 29,
   "id": "ef3d1db3-24be-43f7-a3c1-1c19f5025a9d",
   "metadata": {
    "execution": {
     "iopub.execute_input": "2024-07-23T10:20:41.766172Z",
     "iopub.status.busy": "2024-07-23T10:20:41.766172Z",
     "iopub.status.idle": "2024-07-23T10:20:41.837698Z",
     "shell.execute_reply": "2024-07-23T10:20:41.837698Z",
     "shell.execute_reply.started": "2024-07-23T10:20:41.766172Z"
    }
   },
   "outputs": [
    {
     "name": "stdout",
     "output_type": "stream",
     "text": [
      "Model: \"sequential_1\"\n",
      "_________________________________________________________________\n",
      " Layer (type)                Output Shape              Param #   \n",
      "=================================================================\n",
      " dense_5 (Dense)             (None, 128)               37376     \n",
      "                                                                 \n",
      " dense_6 (Dense)             (None, 64)                8256      \n",
      "                                                                 \n",
      " dense_7 (Dense)             (None, 32)                2080      \n",
      "                                                                 \n",
      " dense_8 (Dense)             (None, 16)                528       \n",
      "                                                                 \n",
      " dense_9 (Dense)             (None, 1)                 17        \n",
      "                                                                 \n",
      "=================================================================\n",
      "Total params: 48,257\n",
      "Trainable params: 48,257\n",
      "Non-trainable params: 0\n",
      "_________________________________________________________________\n"
     ]
    }
   ],
   "source": [
    "# 모델 linear 기본선형회귀 사용\n",
    "model = tf.keras.models.Sequential([\n",
    "    tf.keras.layers.Dense(128, input_dim=291, activation='relu'), # 입력계층 특성 292개중에 291개(input_dim)사용\n",
    "    tf.keras.layers.Dense(64, activation='relu'), # 은닉계층1 32개 \n",
    "    tf.keras.layers.Dense(32, activation='relu'), # 은닉계층2 32개\n",
    "    tf.keras.layers.Dense(16, activation='relu'), # 은닉계층3 64개\n",
    "    tf.keras.layers.Dense(1, activation='linear') # 출력계층 Age특성 한개, linear(회귀) 활성화 함수 사용\n",
    "])\n",
    "\n",
    "# 회귀를 위한 손실 함수(mean squared error)와 메트릭스(mean absolute error) 사용하여 모델 컴파일\n",
    "model.compile(loss='mean_squared_error', optimizer='adam', metrics=['mean_absolute_error'])\n",
    "\n",
    "# 모델 정보(요약) 확인\n",
    "model.summary()"
   ]
  },
  {
   "cell_type": "code",
   "execution_count": 30,
   "id": "0bec4d06-0e7a-4b39-82ef-7f55290052e4",
   "metadata": {
    "execution": {
     "iopub.execute_input": "2024-07-23T10:20:43.950597Z",
     "iopub.status.busy": "2024-07-23T10:20:43.950597Z",
     "iopub.status.idle": "2024-07-23T10:20:43.981597Z",
     "shell.execute_reply": "2024-07-23T10:20:43.981597Z",
     "shell.execute_reply.started": "2024-07-23T10:20:43.950597Z"
    }
   },
   "outputs": [],
   "source": [
    "# '-' 하이픈 들어가 있는 부분은 nan값으로 처리.\n",
    "X[X == '-'] = np.nan"
   ]
  },
  {
   "cell_type": "code",
   "execution_count": 31,
   "id": "33e717ab-6b22-43ef-9b2f-a93b3177a4b9",
   "metadata": {
    "execution": {
     "iopub.execute_input": "2024-07-23T10:20:45.318146Z",
     "iopub.status.busy": "2024-07-23T10:20:45.318146Z",
     "iopub.status.idle": "2024-07-23T10:20:45.323146Z",
     "shell.execute_reply": "2024-07-23T10:20:45.323146Z",
     "shell.execute_reply.started": "2024-07-23T10:20:45.318146Z"
    }
   },
   "outputs": [
    {
     "data": {
      "text/plain": [
       "array([['11', '11', '11', ..., False, True, False],\n",
       "       ['11', '11', '11', ..., False, True, False],\n",
       "       ['11', '11', '11', ..., False, True, False],\n",
       "       ...,\n",
       "       [nan, nan, nan, ..., False, False, False],\n",
       "       [nan, nan, nan, ..., False, False, False],\n",
       "       [nan, nan, nan, ..., False, False, False]], dtype=object)"
      ]
     },
     "execution_count": 31,
     "metadata": {},
     "output_type": "execute_result"
    }
   ],
   "source": [
    "X"
   ]
  },
  {
   "cell_type": "code",
   "execution_count": 32,
   "id": "b27724c6-2be7-4b43-be76-9e5fb5182248",
   "metadata": {
    "execution": {
     "iopub.execute_input": "2024-07-23T10:20:53.030425Z",
     "iopub.status.busy": "2024-07-23T10:20:53.030425Z",
     "iopub.status.idle": "2024-07-23T10:20:53.086236Z",
     "shell.execute_reply": "2024-07-23T10:20:53.086236Z",
     "shell.execute_reply.started": "2024-07-23T10:20:53.030425Z"
    }
   },
   "outputs": [],
   "source": [
    "X = X.astype(np.float32)  # X를 float32 타입으로 변환\n",
    "y = y.astype(np.float32)\n",
    "\n",
    "# print(np.isnan(X).any())  # X에 결측치가 있는지 확인\n",
    "# print(np.isnan(y).any())  # y에 결측치가 있는지 확인"
   ]
  },
  {
   "cell_type": "code",
   "execution_count": 33,
   "id": "1c884b67-c2f5-42bc-89e2-0f4b8904e92d",
   "metadata": {
    "execution": {
     "iopub.execute_input": "2024-07-23T10:20:56.454503Z",
     "iopub.status.busy": "2024-07-23T10:20:56.454503Z",
     "iopub.status.idle": "2024-07-23T10:21:06.462778Z",
     "shell.execute_reply": "2024-07-23T10:21:06.462778Z",
     "shell.execute_reply.started": "2024-07-23T10:20:56.454503Z"
    },
    "scrolled": true
   },
   "outputs": [
    {
     "name": "stdout",
     "output_type": "stream",
     "text": [
      "Epoch 1/100\n",
      "65/65 [==============================] - 0s 2ms/step - loss: 546.2852 - mean_absolute_error: 22.7744\n",
      "Epoch 2/100\n",
      "65/65 [==============================] - 0s 1ms/step - loss: 462.5391 - mean_absolute_error: 21.0663\n",
      "Epoch 3/100\n",
      "65/65 [==============================] - 0s 1ms/step - loss: 268.2605 - mean_absolute_error: 15.5928\n",
      "Epoch 4/100\n",
      "65/65 [==============================] - 0s 1ms/step - loss: 46.7686 - mean_absolute_error: 5.4652\n",
      "Epoch 5/100\n",
      "65/65 [==============================] - 0s 1ms/step - loss: 18.1770 - mean_absolute_error: 3.7269\n",
      "Epoch 6/100\n",
      "65/65 [==============================] - 0s 1ms/step - loss: 18.1667 - mean_absolute_error: 3.7223\n",
      "Epoch 7/100\n",
      "65/65 [==============================] - 0s 1ms/step - loss: 18.1677 - mean_absolute_error: 3.7216\n",
      "Epoch 8/100\n",
      "65/65 [==============================] - 0s 1ms/step - loss: 18.1638 - mean_absolute_error: 3.7192\n",
      "Epoch 9/100\n",
      "65/65 [==============================] - 0s 1ms/step - loss: 18.1662 - mean_absolute_error: 3.7207\n",
      "Epoch 10/100\n",
      "65/65 [==============================] - 0s 1ms/step - loss: 18.1652 - mean_absolute_error: 3.7193\n",
      "Epoch 11/100\n",
      "65/65 [==============================] - 0s 1ms/step - loss: 18.1683 - mean_absolute_error: 3.7237\n",
      "Epoch 12/100\n",
      "65/65 [==============================] - 0s 1ms/step - loss: 18.1827 - mean_absolute_error: 3.7180\n",
      "Epoch 13/100\n",
      "65/65 [==============================] - 0s 1ms/step - loss: 18.1659 - mean_absolute_error: 3.7194\n",
      "Epoch 14/100\n",
      "65/65 [==============================] - 0s 1ms/step - loss: 18.1656 - mean_absolute_error: 3.7189\n",
      "Epoch 15/100\n",
      "65/65 [==============================] - 0s 1ms/step - loss: 18.1679 - mean_absolute_error: 3.7219\n",
      "Epoch 16/100\n",
      "65/65 [==============================] - 0s 1ms/step - loss: 18.1649 - mean_absolute_error: 3.7209\n",
      "Epoch 17/100\n",
      "65/65 [==============================] - 0s 1ms/step - loss: 18.1703 - mean_absolute_error: 3.7219\n",
      "Epoch 18/100\n",
      "65/65 [==============================] - 0s 1ms/step - loss: 18.1826 - mean_absolute_error: 3.7159\n",
      "Epoch 19/100\n",
      "65/65 [==============================] - 0s 1ms/step - loss: 18.1726 - mean_absolute_error: 3.7218\n",
      "Epoch 20/100\n",
      "65/65 [==============================] - 0s 1ms/step - loss: 18.1663 - mean_absolute_error: 3.7189\n",
      "Epoch 21/100\n",
      "65/65 [==============================] - 0s 1ms/step - loss: 18.1706 - mean_absolute_error: 3.7207\n",
      "Epoch 22/100\n",
      "65/65 [==============================] - 0s 1ms/step - loss: 18.1715 - mean_absolute_error: 3.7200\n",
      "Epoch 23/100\n",
      "65/65 [==============================] - 0s 1ms/step - loss: 18.1838 - mean_absolute_error: 3.7219\n",
      "Epoch 24/100\n",
      "65/65 [==============================] - 0s 1ms/step - loss: 18.1839 - mean_absolute_error: 3.7212\n",
      "Epoch 25/100\n",
      "65/65 [==============================] - 0s 1ms/step - loss: 18.1778 - mean_absolute_error: 3.7210\n",
      "Epoch 26/100\n",
      "65/65 [==============================] - 0s 1ms/step - loss: 18.1732 - mean_absolute_error: 3.7221\n",
      "Epoch 27/100\n",
      "65/65 [==============================] - 0s 1ms/step - loss: 18.1805 - mean_absolute_error: 3.7192\n",
      "Epoch 28/100\n",
      "65/65 [==============================] - 0s 1ms/step - loss: 18.1744 - mean_absolute_error: 3.7181\n",
      "Epoch 29/100\n",
      "65/65 [==============================] - 0s 1ms/step - loss: 18.1857 - mean_absolute_error: 3.7217\n",
      "Epoch 30/100\n",
      "65/65 [==============================] - 0s 1ms/step - loss: 18.1774 - mean_absolute_error: 3.7191\n",
      "Epoch 31/100\n",
      "65/65 [==============================] - 0s 1ms/step - loss: 18.1821 - mean_absolute_error: 3.7198\n",
      "Epoch 32/100\n",
      "65/65 [==============================] - 0s 1ms/step - loss: 18.1893 - mean_absolute_error: 3.7232\n",
      "Epoch 33/100\n",
      "65/65 [==============================] - 0s 1ms/step - loss: 18.1669 - mean_absolute_error: 3.7221\n",
      "Epoch 34/100\n",
      "65/65 [==============================] - 0s 1ms/step - loss: 18.1561 - mean_absolute_error: 3.7115\n",
      "Epoch 35/100\n",
      "65/65 [==============================] - 0s 1ms/step - loss: 18.1781 - mean_absolute_error: 3.7208\n",
      "Epoch 36/100\n",
      "65/65 [==============================] - 0s 1ms/step - loss: 18.1965 - mean_absolute_error: 3.7229\n",
      "Epoch 37/100\n",
      "65/65 [==============================] - 0s 1ms/step - loss: 18.1787 - mean_absolute_error: 3.7202\n",
      "Epoch 38/100\n",
      "65/65 [==============================] - 0s 1ms/step - loss: 18.2051 - mean_absolute_error: 3.7190\n",
      "Epoch 39/100\n",
      "65/65 [==============================] - 0s 1ms/step - loss: 18.1624 - mean_absolute_error: 3.7236\n",
      "Epoch 40/100\n",
      "65/65 [==============================] - 0s 1ms/step - loss: 18.1818 - mean_absolute_error: 3.7152\n",
      "Epoch 41/100\n",
      "65/65 [==============================] - 0s 1ms/step - loss: 18.1732 - mean_absolute_error: 3.7169\n",
      "Epoch 42/100\n",
      "65/65 [==============================] - 0s 1ms/step - loss: 18.1793 - mean_absolute_error: 3.7231\n",
      "Epoch 43/100\n",
      "65/65 [==============================] - 0s 1ms/step - loss: 18.1961 - mean_absolute_error: 3.7183\n",
      "Epoch 44/100\n",
      "65/65 [==============================] - 0s 1ms/step - loss: 18.1723 - mean_absolute_error: 3.7219\n",
      "Epoch 45/100\n",
      "65/65 [==============================] - 0s 2ms/step - loss: 18.1878 - mean_absolute_error: 3.7210\n",
      "Epoch 46/100\n",
      "65/65 [==============================] - 0s 1ms/step - loss: 18.1785 - mean_absolute_error: 3.7186\n",
      "Epoch 47/100\n",
      "65/65 [==============================] - 0s 1ms/step - loss: 18.1700 - mean_absolute_error: 3.7207\n",
      "Epoch 48/100\n",
      "65/65 [==============================] - 0s 1ms/step - loss: 18.1789 - mean_absolute_error: 3.7234\n",
      "Epoch 49/100\n",
      "65/65 [==============================] - 0s 1ms/step - loss: 18.2163 - mean_absolute_error: 3.7194\n",
      "Epoch 50/100\n",
      "65/65 [==============================] - 0s 1ms/step - loss: 18.1784 - mean_absolute_error: 3.7202\n",
      "Epoch 51/100\n",
      "65/65 [==============================] - 0s 1ms/step - loss: 18.1846 - mean_absolute_error: 3.7181\n",
      "Epoch 52/100\n",
      "65/65 [==============================] - 0s 1ms/step - loss: 18.1736 - mean_absolute_error: 3.7170\n",
      "Epoch 53/100\n",
      "65/65 [==============================] - 0s 1ms/step - loss: 18.1826 - mean_absolute_error: 3.7216\n",
      "Epoch 54/100\n",
      "65/65 [==============================] - 0s 1ms/step - loss: 18.1949 - mean_absolute_error: 3.7245\n",
      "Epoch 55/100\n",
      "65/65 [==============================] - 0s 1ms/step - loss: 18.2014 - mean_absolute_error: 3.7212\n",
      "Epoch 56/100\n",
      "65/65 [==============================] - 0s 1ms/step - loss: 18.2008 - mean_absolute_error: 3.7200\n",
      "Epoch 57/100\n",
      "65/65 [==============================] - 0s 1ms/step - loss: 18.1718 - mean_absolute_error: 3.7212\n",
      "Epoch 58/100\n",
      "65/65 [==============================] - 0s 1ms/step - loss: 18.1673 - mean_absolute_error: 3.7177\n",
      "Epoch 59/100\n",
      "65/65 [==============================] - 0s 1ms/step - loss: 18.2006 - mean_absolute_error: 3.7236\n",
      "Epoch 60/100\n",
      "65/65 [==============================] - 0s 1ms/step - loss: 18.1799 - mean_absolute_error: 3.7198\n",
      "Epoch 61/100\n",
      "65/65 [==============================] - 0s 1ms/step - loss: 18.2125 - mean_absolute_error: 3.7176\n",
      "Epoch 62/100\n",
      "65/65 [==============================] - 0s 1ms/step - loss: 18.2105 - mean_absolute_error: 3.7157\n",
      "Epoch 63/100\n",
      "65/65 [==============================] - 0s 1ms/step - loss: 18.1615 - mean_absolute_error: 3.7154\n",
      "Epoch 64/100\n",
      "65/65 [==============================] - 0s 1ms/step - loss: 18.2154 - mean_absolute_error: 3.7216\n",
      "Epoch 65/100\n",
      "65/65 [==============================] - 0s 1ms/step - loss: 18.1838 - mean_absolute_error: 3.7223\n",
      "Epoch 66/100\n",
      "65/65 [==============================] - 0s 1ms/step - loss: 18.1808 - mean_absolute_error: 3.7209\n",
      "Epoch 67/100\n",
      "65/65 [==============================] - 0s 1ms/step - loss: 18.2170 - mean_absolute_error: 3.7199\n",
      "Epoch 68/100\n",
      "65/65 [==============================] - 0s 1ms/step - loss: 18.1834 - mean_absolute_error: 3.7213\n",
      "Epoch 69/100\n",
      "65/65 [==============================] - 0s 1ms/step - loss: 18.1812 - mean_absolute_error: 3.7160\n",
      "Epoch 70/100\n",
      "65/65 [==============================] - 0s 1ms/step - loss: 18.1728 - mean_absolute_error: 3.7192\n",
      "Epoch 71/100\n",
      "65/65 [==============================] - 0s 1ms/step - loss: 18.2186 - mean_absolute_error: 3.7231\n",
      "Epoch 72/100\n",
      "65/65 [==============================] - 0s 1ms/step - loss: 18.2126 - mean_absolute_error: 3.7253\n",
      "Epoch 73/100\n",
      "65/65 [==============================] - 0s 1ms/step - loss: 18.1852 - mean_absolute_error: 3.7164\n",
      "Epoch 74/100\n",
      "65/65 [==============================] - 0s 1ms/step - loss: 18.1954 - mean_absolute_error: 3.7211\n",
      "Epoch 75/100\n",
      "65/65 [==============================] - 0s 1ms/step - loss: 18.1915 - mean_absolute_error: 3.7220\n",
      "Epoch 76/100\n",
      "65/65 [==============================] - 0s 1ms/step - loss: 18.2041 - mean_absolute_error: 3.7178\n",
      "Epoch 77/100\n",
      "65/65 [==============================] - 0s 1ms/step - loss: 18.1785 - mean_absolute_error: 3.7218\n",
      "Epoch 78/100\n",
      "65/65 [==============================] - 0s 1ms/step - loss: 18.1661 - mean_absolute_error: 3.7192\n",
      "Epoch 79/100\n",
      "65/65 [==============================] - 0s 1ms/step - loss: 18.1883 - mean_absolute_error: 3.7146\n",
      "Epoch 80/100\n",
      "65/65 [==============================] - 0s 1ms/step - loss: 18.1839 - mean_absolute_error: 3.7218\n",
      "Epoch 81/100\n",
      "65/65 [==============================] - 0s 1ms/step - loss: 18.2075 - mean_absolute_error: 3.7211\n",
      "Epoch 82/100\n",
      "65/65 [==============================] - 0s 1ms/step - loss: 18.1774 - mean_absolute_error: 3.7184\n",
      "Epoch 83/100\n",
      "65/65 [==============================] - 0s 1ms/step - loss: 18.2051 - mean_absolute_error: 3.7216\n",
      "Epoch 84/100\n",
      "65/65 [==============================] - 0s 1ms/step - loss: 18.2178 - mean_absolute_error: 3.7249\n",
      "Epoch 85/100\n",
      "65/65 [==============================] - 0s 1ms/step - loss: 18.1926 - mean_absolute_error: 3.7210\n",
      "Epoch 86/100\n",
      "65/65 [==============================] - 0s 1ms/step - loss: 18.1873 - mean_absolute_error: 3.7222\n",
      "Epoch 87/100\n",
      "65/65 [==============================] - 0s 1ms/step - loss: 18.1810 - mean_absolute_error: 3.7134\n",
      "Epoch 88/100\n",
      "65/65 [==============================] - 0s 1ms/step - loss: 18.1775 - mean_absolute_error: 3.7195\n",
      "Epoch 89/100\n",
      "65/65 [==============================] - 0s 1ms/step - loss: 18.1736 - mean_absolute_error: 3.7205\n",
      "Epoch 90/100\n",
      "65/65 [==============================] - 0s 1ms/step - loss: 18.1781 - mean_absolute_error: 3.7199\n",
      "Epoch 91/100\n",
      "65/65 [==============================] - 0s 1ms/step - loss: 18.1797 - mean_absolute_error: 3.7217\n",
      "Epoch 92/100\n",
      "65/65 [==============================] - 0s 2ms/step - loss: 18.2420 - mean_absolute_error: 3.7128\n",
      "Epoch 93/100\n",
      "65/65 [==============================] - 0s 1ms/step - loss: 18.2819 - mean_absolute_error: 3.7277\n",
      "Epoch 94/100\n",
      "65/65 [==============================] - 0s 1ms/step - loss: 18.1902 - mean_absolute_error: 3.7162\n",
      "Epoch 95/100\n",
      "65/65 [==============================] - 0s 1ms/step - loss: 18.2022 - mean_absolute_error: 3.7178\n",
      "Epoch 96/100\n",
      "65/65 [==============================] - 0s 1ms/step - loss: 18.2017 - mean_absolute_error: 3.7187\n",
      "Epoch 97/100\n",
      "65/65 [==============================] - 0s 1ms/step - loss: 18.2021 - mean_absolute_error: 3.7237\n",
      "Epoch 98/100\n",
      "65/65 [==============================] - 0s 1ms/step - loss: 18.1956 - mean_absolute_error: 3.7220\n",
      "Epoch 99/100\n",
      "65/65 [==============================] - 0s 1ms/step - loss: 18.1922 - mean_absolute_error: 3.7178\n",
      "Epoch 100/100\n",
      "65/65 [==============================] - 0s 1ms/step - loss: 18.1725 - mean_absolute_error: 3.7213\n"
     ]
    }
   ],
   "source": [
    "# 시드 값 생성\n",
    "seed = 123\n",
    "\n",
    "# TensorFlow와 NumPy에서 난수 생성기의 시드를 설정하여 결과의 재현성을 보장\n",
    "tf.random.set_seed(seed)\n",
    "np.random.seed(seed)\n",
    "\n",
    "history = model.fit(X, y, epochs=100, batch_size=100) # (입력값, 타겟값, 훈련횟수 100번, 훈련에사용할 데이터수 12개)"
   ]
  },
  {
   "cell_type": "code",
   "execution_count": 34,
   "id": "fb9bb4f1-38e6-49d0-94ad-375ed4a5e23c",
   "metadata": {
    "execution": {
     "iopub.execute_input": "2024-07-23T10:21:17.502781Z",
     "iopub.status.busy": "2024-07-23T10:21:17.502781Z",
     "iopub.status.idle": "2024-07-23T10:21:17.633002Z",
     "shell.execute_reply": "2024-07-23T10:21:17.633002Z",
     "shell.execute_reply.started": "2024-07-23T10:21:17.502781Z"
    }
   },
   "outputs": [
    {
     "data": {
      "image/png": "[encoded data removed]",
      "text/plain": [
       "<Figure size 1000x500 with 2 Axes>"
      ]
     },
     "metadata": {},
     "output_type": "display_data"
    }
   ],
   "source": [
    "plt.figure(figsize=(10,5))\n",
    "\n",
    "\n",
    "# subplot 1 : Mean Squared Error 손실 함수의 변화\n",
    "plt.subplot(1,2,1)\n",
    "plt.plot(history.history['loss'])\n",
    "plt.title('mean_squared_error')\n",
    "\n",
    "\n",
    "# subplot 2 : Mean Absolute Error 매트릭스의 변화\n",
    "plt.subplot(1,2,2)\n",
    "plt.plot(history.history['mean_absolute_error'])\n",
    "plt.title('mean_absolute_error')\n",
    "\n",
    "plt.show()"
   ]
  },
  {
   "cell_type": "code",
   "execution_count": 35,
   "id": "9d350add-d0e1-48c1-a1b1-049786b9768c",
   "metadata": {
    "execution": {
     "iopub.execute_input": "2024-07-23T10:21:23.934025Z",
     "iopub.status.busy": "2024-07-23T10:21:23.934025Z",
     "iopub.status.idle": "2024-07-23T10:21:23.945995Z",
     "shell.execute_reply": "2024-07-23T10:21:23.945995Z",
     "shell.execute_reply.started": "2024-07-23T10:21:23.934025Z"
    }
   },
   "outputs": [
    {
     "name": "stdout",
     "output_type": "stream",
     "text": [
      "Epoch 1: Loss (MSE) = 546.2852, MAE = 22.7744\n",
      "Epoch 2: Loss (MSE) = 462.5391, MAE = 21.0663\n",
      "Epoch 3: Loss (MSE) = 268.2605, MAE = 15.5928\n",
      "Epoch 4: Loss (MSE) = 46.7686, MAE = 5.4652\n",
      "Epoch 5: Loss (MSE) = 18.1770, MAE = 3.7269\n",
      "Epoch 6: Loss (MSE) = 18.1667, MAE = 3.7223\n",
      "Epoch 7: Loss (MSE) = 18.1677, MAE = 3.7216\n",
      "Epoch 8: Loss (MSE) = 18.1638, MAE = 3.7192\n",
      "Epoch 9: Loss (MSE) = 18.1662, MAE = 3.7207\n",
      "Epoch 10: Loss (MSE) = 18.1652, MAE = 3.7193\n",
      "Epoch 11: Loss (MSE) = 18.1683, MAE = 3.7237\n",
      "Epoch 12: Loss (MSE) = 18.1827, MAE = 3.7180\n",
      "Epoch 13: Loss (MSE) = 18.1659, MAE = 3.7194\n",
      "Epoch 14: Loss (MSE) = 18.1656, MAE = 3.7189\n",
      "Epoch 15: Loss (MSE) = 18.1679, MAE = 3.7219\n",
      "Epoch 16: Loss (MSE) = 18.1649, MAE = 3.7209\n",
      "Epoch 17: Loss (MSE) = 18.1703, MAE = 3.7219\n",
      "Epoch 18: Loss (MSE) = 18.1826, MAE = 3.7159\n",
      "Epoch 19: Loss (MSE) = 18.1726, MAE = 3.7218\n",
      "Epoch 20: Loss (MSE) = 18.1663, MAE = 3.7189\n",
      "Epoch 21: Loss (MSE) = 18.1706, MAE = 3.7207\n",
      "Epoch 22: Loss (MSE) = 18.1715, MAE = 3.7200\n",
      "Epoch 23: Loss (MSE) = 18.1838, MAE = 3.7219\n",
      "Epoch 24: Loss (MSE) = 18.1839, MAE = 3.7212\n",
      "Epoch 25: Loss (MSE) = 18.1778, MAE = 3.7210\n",
      "Epoch 26: Loss (MSE) = 18.1732, MAE = 3.7221\n",
      "Epoch 27: Loss (MSE) = 18.1805, MAE = 3.7192\n",
      "Epoch 28: Loss (MSE) = 18.1744, MAE = 3.7181\n",
      "Epoch 29: Loss (MSE) = 18.1857, MAE = 3.7217\n",
      "Epoch 30: Loss (MSE) = 18.1774, MAE = 3.7191\n",
      "Epoch 31: Loss (MSE) = 18.1821, MAE = 3.7198\n",
      "Epoch 32: Loss (MSE) = 18.1893, MAE = 3.7232\n",
      "Epoch 33: Loss (MSE) = 18.1669, MAE = 3.7221\n",
      "Epoch 34: Loss (MSE) = 18.1561, MAE = 3.7115\n",
      "Epoch 35: Loss (MSE) = 18.1781, MAE = 3.7208\n",
      "Epoch 36: Loss (MSE) = 18.1965, MAE = 3.7229\n",
      "Epoch 37: Loss (MSE) = 18.1787, MAE = 3.7202\n",
      "Epoch 38: Loss (MSE) = 18.2051, MAE = 3.7190\n",
      "Epoch 39: Loss (MSE) = 18.1624, MAE = 3.7236\n",
      "Epoch 40: Loss (MSE) = 18.1818, MAE = 3.7152\n",
      "Epoch 41: Loss (MSE) = 18.1732, MAE = 3.7169\n",
      "Epoch 42: Loss (MSE) = 18.1793, MAE = 3.7231\n",
      "Epoch 43: Loss (MSE) = 18.1961, MAE = 3.7183\n",
      "Epoch 44: Loss (MSE) = 18.1723, MAE = 3.7219\n",
      "Epoch 45: Loss (MSE) = 18.1878, MAE = 3.7210\n",
      "Epoch 46: Loss (MSE) = 18.1785, MAE = 3.7186\n",
      "Epoch 47: Loss (MSE) = 18.1700, MAE = 3.7207\n",
      "Epoch 48: Loss (MSE) = 18.1789, MAE = 3.7234\n",
      "Epoch 49: Loss (MSE) = 18.2163, MAE = 3.7194\n",
      "Epoch 50: Loss (MSE) = 18.1784, MAE = 3.7202\n",
      "Epoch 51: Loss (MSE) = 18.1846, MAE = 3.7181\n",
      "Epoch 52: Loss (MSE) = 18.1736, MAE = 3.7170\n",
      "Epoch 53: Loss (MSE) = 18.1826, MAE = 3.7216\n",
      "Epoch 54: Loss (MSE) = 18.1949, MAE = 3.7245\n",
      "Epoch 55: Loss (MSE) = 18.2014, MAE = 3.7212\n",
      "Epoch 56: Loss (MSE) = 18.2008, MAE = 3.7200\n",
      "Epoch 57: Loss (MSE) = 18.1718, MAE = 3.7212\n",
      "Epoch 58: Loss (MSE) = 18.1673, MAE = 3.7177\n",
      "Epoch 59: Loss (MSE) = 18.2006, MAE = 3.7236\n",
      "Epoch 60: Loss (MSE) = 18.1799, MAE = 3.7198\n",
      "Epoch 61: Loss (MSE) = 18.2125, MAE = 3.7176\n",
      "Epoch 62: Loss (MSE) = 18.2105, MAE = 3.7157\n",
      "Epoch 63: Loss (MSE) = 18.1615, MAE = 3.7154\n",
      "Epoch 64: Loss (MSE) = 18.2154, MAE = 3.7216\n",
      "Epoch 65: Loss (MSE) = 18.1838, MAE = 3.7223\n",
      "Epoch 66: Loss (MSE) = 18.1808, MAE = 3.7209\n",
      "Epoch 67: Loss (MSE) = 18.2170, MAE = 3.7199\n",
      "Epoch 68: Loss (MSE) = 18.1834, MAE = 3.7213\n",
      "Epoch 69: Loss (MSE) = 18.1812, MAE = 3.7160\n",
      "Epoch 70: Loss (MSE) = 18.1728, MAE = 3.7192\n",
      "Epoch 71: Loss (MSE) = 18.2186, MAE = 3.7231\n",
      "Epoch 72: Loss (MSE) = 18.2126, MAE = 3.7253\n",
      "Epoch 73: Loss (MSE) = 18.1852, MAE = 3.7164\n",
      "Epoch 74: Loss (MSE) = 18.1954, MAE = 3.7211\n",
      "Epoch 75: Loss (MSE) = 18.1915, MAE = 3.7220\n",
      "Epoch 76: Loss (MSE) = 18.2041, MAE = 3.7178\n",
      "Epoch 77: Loss (MSE) = 18.1785, MAE = 3.7218\n",
      "Epoch 78: Loss (MSE) = 18.1661, MAE = 3.7192\n",
      "Epoch 79: Loss (MSE) = 18.1883, MAE = 3.7146\n",
      "Epoch 80: Loss (MSE) = 18.1839, MAE = 3.7218\n",
      "Epoch 81: Loss (MSE) = 18.2075, MAE = 3.7211\n",
      "Epoch 82: Loss (MSE) = 18.1774, MAE = 3.7184\n",
      "Epoch 83: Loss (MSE) = 18.2051, MAE = 3.7216\n",
      "Epoch 84: Loss (MSE) = 18.2178, MAE = 3.7249\n",
      "Epoch 85: Loss (MSE) = 18.1926, MAE = 3.7210\n",
      "Epoch 86: Loss (MSE) = 18.1873, MAE = 3.7222\n",
      "Epoch 87: Loss (MSE) = 18.1810, MAE = 3.7134\n",
      "Epoch 88: Loss (MSE) = 18.1775, MAE = 3.7195\n",
      "Epoch 89: Loss (MSE) = 18.1736, MAE = 3.7205\n",
      "Epoch 90: Loss (MSE) = 18.1781, MAE = 3.7199\n",
      "Epoch 91: Loss (MSE) = 18.1797, MAE = 3.7217\n",
      "Epoch 92: Loss (MSE) = 18.2420, MAE = 3.7128\n",
      "Epoch 93: Loss (MSE) = 18.2819, MAE = 3.7277\n",
      "Epoch 94: Loss (MSE) = 18.1902, MAE = 3.7162\n",
      "Epoch 95: Loss (MSE) = 18.2022, MAE = 3.7178\n",
      "Epoch 96: Loss (MSE) = 18.2017, MAE = 3.7187\n",
      "Epoch 97: Loss (MSE) = 18.2021, MAE = 3.7237\n",
      "Epoch 98: Loss (MSE) = 18.1956, MAE = 3.7220\n",
      "Epoch 99: Loss (MSE) = 18.1922, MAE = 3.7178\n",
      "Epoch 100: Loss (MSE) = 18.1725, MAE = 3.7213\n"
     ]
    }
   ],
   "source": [
    "# 손실 함수와 평균 절대 오차 값을 가져오기\n",
    "loss_values = history.history['loss']\n",
    "mean_absolute_error_values = history.history['mean_absolute_error']\n",
    "mean_absolute_error_values = history.history['mean_absolute_error'] # 결정계수 r^2 \n",
    "\n",
    "# 에포크 수\n",
    "epochs = len(loss_values)\n",
    "\n",
    "# 결과 출력\n",
    "for epoch in range(epochs):\n",
    "    print(f\"Epoch {epoch + 1}: Loss (MSE) = {loss_values[epoch]:.4f}, MAE = {mean_absolute_error_values[epoch]:.4f}\")"
   ]
  },
  {
   "cell_type": "code",
   "execution_count": null,
   "id": "11fb0e57-d295-4596-aebf-08cb1f95d8ed",
   "metadata": {},
   "outputs": [],
   "source": []
  },
  {
   "cell_type": "code",
   "execution_count": null,
   "id": "b0b19c27-49f9-4c71-b89e-fa549db5f2e7",
   "metadata": {},
   "outputs": [],
   "source": []
  }
 ],
 "metadata": {
  "kernelspec": {
   "display_name": "Python 3 (ipykernel)",
   "language": "python",
   "name": "python3"
  },
  "language_info": {
   "codemirror_mode": {
    "name": "ipython",
    "version": 3
   },
   "file_extension": ".py",
   "mimetype": "text/x-python",
   "name": "python",
   "nbconvert_exporter": "python",
   "pygments_lexer": "ipython3",
   "version": "3.10.8"
  }
 },
 "nbformat": 4,
 "nbformat_minor": 5
}
