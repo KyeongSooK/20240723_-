{
 "cells": [
  {
   "cell_type": "code",
   "execution_count": null,
   "id": "d7a7228a-0cb1-486b-bc37-58a29aa6bb8c",
   "metadata": {},
   "outputs": [],
   "source": [
    "# 1. 데이터 확인 및 표 작업용"
   ]
  },
  {
   "cell_type": "code",
   "execution_count": 4,
   "id": "6e5cf344-16a8-4100-9d1c-22a96c39b385",
   "metadata": {
    "execution": {
     "iopub.execute_input": "2024-07-23T04:18:49.414709Z",
     "iopub.status.busy": "2024-07-23T04:18:49.414709Z",
     "iopub.status.idle": "2024-07-23T04:19:10.767215Z",
     "shell.execute_reply": "2024-07-23T04:19:10.767215Z",
     "shell.execute_reply.started": "2024-07-23T04:18:49.414709Z"
    }
   },
   "outputs": [],
   "source": [
    "# 패키지 사용\n",
    "#import tensorflow as tf\n",
    "import pandas as pd\n",
    "import numpy as np\n",
    "#import matplotlib.pyplot as plt"
   ]
  },
  {
   "cell_type": "code",
   "execution_count": 6,
   "id": "a7813ffb-b81b-4a03-9b17-c33f85b83cee",
   "metadata": {
    "execution": {
     "iopub.execute_input": "2024-07-23T04:19:58.072381Z",
     "iopub.status.busy": "2024-07-23T04:19:58.072381Z",
     "iopub.status.idle": "2024-07-23T04:19:58.144555Z",
     "shell.execute_reply": "2024-07-23T04:19:58.144555Z",
     "shell.execute_reply.started": "2024-07-23T04:19:58.072381Z"
    }
   },
   "outputs": [],
   "source": [
    "df = pd.read_csv('./activity_sample.csv')"
   ]
  },
  {
   "cell_type": "code",
   "execution_count": null,
   "id": "61ffd503-bbcc-4679-af49-99701572de43",
   "metadata": {},
   "outputs": [],
   "source": [
    "## 1. 데이터 확인"
   ]
  },
  {
   "cell_type": "code",
   "execution_count": 9,
   "id": "0f2f88ef-4512-4a10-bbf1-15e3923772c0",
   "metadata": {
    "execution": {
     "iopub.execute_input": "2024-07-23T04:21:39.034623Z",
     "iopub.status.busy": "2024-07-23T04:21:39.033623Z",
     "iopub.status.idle": "2024-07-23T04:21:39.050102Z",
     "shell.execute_reply": "2024-07-23T04:21:39.050102Z",
     "shell.execute_reply.started": "2024-07-23T04:21:39.034623Z"
    }
   },
   "outputs": [
    {
     "data": {
      "text/html": [
       "<div>\n",
       "<style scoped>\n",
       "    .dataframe tbody tr th:only-of-type {\n",
       "        vertical-align: middle;\n",
       "    }\n",
       "\n",
       "    .dataframe tbody tr th {\n",
       "        vertical-align: top;\n",
       "    }\n",
       "\n",
       "    .dataframe thead th {\n",
       "        text-align: right;\n",
       "    }\n",
       "</style>\n",
       "<table border=\"1\" class=\"dataframe\">\n",
       "  <thead>\n",
       "    <tr style=\"text-align: right;\">\n",
       "      <th></th>\n",
       "      <th>Unnamed: 0</th>\n",
       "      <th>userid</th>\n",
       "      <th>learning_seq</th>\n",
       "      <th>mcode</th>\n",
       "      <th>learning_action_seq</th>\n",
       "      <th>event_type</th>\n",
       "      <th>action</th>\n",
       "      <th>object_type</th>\n",
       "      <th>timestamp</th>\n",
       "      <th>gender</th>\n",
       "      <th>...</th>\n",
       "      <th>day_23_status</th>\n",
       "      <th>day_24_status</th>\n",
       "      <th>day_25_status</th>\n",
       "      <th>day_26_status</th>\n",
       "      <th>day_27_status</th>\n",
       "      <th>day_28_status</th>\n",
       "      <th>day_29_status</th>\n",
       "      <th>day_30_status</th>\n",
       "      <th>day_31_status</th>\n",
       "      <th>change_date</th>\n",
       "    </tr>\n",
       "  </thead>\n",
       "  <tbody>\n",
       "    <tr>\n",
       "      <th>0</th>\n",
       "      <td>6338</td>\n",
       "      <td>01cf7916-eb98-4d30-8c81-dd52aa5be060</td>\n",
       "      <td>1</td>\n",
       "      <td>T0TE52U01003</td>\n",
       "      <td>1</td>\n",
       "      <td>ViewEvent</td>\n",
       "      <td>Viewed</td>\n",
       "      <td>DigitalResource</td>\n",
       "      <td>2022-09-14 23:28:53.150</td>\n",
       "      <td>M</td>\n",
       "      <td>...</td>\n",
       "      <td>11</td>\n",
       "      <td>11</td>\n",
       "      <td>44</td>\n",
       "      <td>44</td>\n",
       "      <td>44</td>\n",
       "      <td>44</td>\n",
       "      <td>44</td>\n",
       "      <td>44</td>\n",
       "      <td>999</td>\n",
       "      <td>25</td>\n",
       "    </tr>\n",
       "    <tr>\n",
       "      <th>1</th>\n",
       "      <td>6339</td>\n",
       "      <td>01cf7916-eb98-4d30-8c81-dd52aa5be060</td>\n",
       "      <td>1</td>\n",
       "      <td>T0TE52U01003</td>\n",
       "      <td>2</td>\n",
       "      <td>NavigationEvent</td>\n",
       "      <td>NavigatedTo</td>\n",
       "      <td>DigitalResource</td>\n",
       "      <td>2022-09-14 23:30:09.481</td>\n",
       "      <td>M</td>\n",
       "      <td>...</td>\n",
       "      <td>11</td>\n",
       "      <td>11</td>\n",
       "      <td>44</td>\n",
       "      <td>44</td>\n",
       "      <td>44</td>\n",
       "      <td>44</td>\n",
       "      <td>44</td>\n",
       "      <td>44</td>\n",
       "      <td>999</td>\n",
       "      <td>25</td>\n",
       "    </tr>\n",
       "    <tr>\n",
       "      <th>2</th>\n",
       "      <td>6340</td>\n",
       "      <td>01cf7916-eb98-4d30-8c81-dd52aa5be060</td>\n",
       "      <td>1</td>\n",
       "      <td>T0TE52U01003</td>\n",
       "      <td>3</td>\n",
       "      <td>ViewEvent</td>\n",
       "      <td>Viewed</td>\n",
       "      <td>DigitalResource</td>\n",
       "      <td>2022-09-14 23:30:09.604</td>\n",
       "      <td>M</td>\n",
       "      <td>...</td>\n",
       "      <td>11</td>\n",
       "      <td>11</td>\n",
       "      <td>44</td>\n",
       "      <td>44</td>\n",
       "      <td>44</td>\n",
       "      <td>44</td>\n",
       "      <td>44</td>\n",
       "      <td>44</td>\n",
       "      <td>999</td>\n",
       "      <td>25</td>\n",
       "    </tr>\n",
       "    <tr>\n",
       "      <th>3</th>\n",
       "      <td>6341</td>\n",
       "      <td>01cf7916-eb98-4d30-8c81-dd52aa5be060</td>\n",
       "      <td>1</td>\n",
       "      <td>T0TE52U01003</td>\n",
       "      <td>4</td>\n",
       "      <td>NavigationEvent</td>\n",
       "      <td>NavigatedTo</td>\n",
       "      <td>DigitalResource</td>\n",
       "      <td>2022-09-14 23:30:43.752</td>\n",
       "      <td>M</td>\n",
       "      <td>...</td>\n",
       "      <td>11</td>\n",
       "      <td>11</td>\n",
       "      <td>44</td>\n",
       "      <td>44</td>\n",
       "      <td>44</td>\n",
       "      <td>44</td>\n",
       "      <td>44</td>\n",
       "      <td>44</td>\n",
       "      <td>999</td>\n",
       "      <td>25</td>\n",
       "    </tr>\n",
       "    <tr>\n",
       "      <th>4</th>\n",
       "      <td>6342</td>\n",
       "      <td>01cf7916-eb98-4d30-8c81-dd52aa5be060</td>\n",
       "      <td>1</td>\n",
       "      <td>T0TE52U01003</td>\n",
       "      <td>5</td>\n",
       "      <td>ViewEvent</td>\n",
       "      <td>Viewed</td>\n",
       "      <td>DigitalResource</td>\n",
       "      <td>2022-09-14 23:30:43.883</td>\n",
       "      <td>M</td>\n",
       "      <td>...</td>\n",
       "      <td>11</td>\n",
       "      <td>11</td>\n",
       "      <td>44</td>\n",
       "      <td>44</td>\n",
       "      <td>44</td>\n",
       "      <td>44</td>\n",
       "      <td>44</td>\n",
       "      <td>44</td>\n",
       "      <td>999</td>\n",
       "      <td>25</td>\n",
       "    </tr>\n",
       "  </tbody>\n",
       "</table>\n",
       "<p>5 rows × 45 columns</p>\n",
       "</div>"
      ],
      "text/plain": [
       "   Unnamed: 0                                userid  learning_seq  \\\n",
       "0        6338  01cf7916-eb98-4d30-8c81-dd52aa5be060             1   \n",
       "1        6339  01cf7916-eb98-4d30-8c81-dd52aa5be060             1   \n",
       "2        6340  01cf7916-eb98-4d30-8c81-dd52aa5be060             1   \n",
       "3        6341  01cf7916-eb98-4d30-8c81-dd52aa5be060             1   \n",
       "4        6342  01cf7916-eb98-4d30-8c81-dd52aa5be060             1   \n",
       "\n",
       "          mcode  learning_action_seq       event_type       action  \\\n",
       "0  T0TE52U01003                    1        ViewEvent       Viewed   \n",
       "1  T0TE52U01003                    2  NavigationEvent  NavigatedTo   \n",
       "2  T0TE52U01003                    3        ViewEvent       Viewed   \n",
       "3  T0TE52U01003                    4  NavigationEvent  NavigatedTo   \n",
       "4  T0TE52U01003                    5        ViewEvent       Viewed   \n",
       "\n",
       "       object_type                timestamp gender  ...  day_23_status  \\\n",
       "0  DigitalResource  2022-09-14 23:28:53.150      M  ...             11   \n",
       "1  DigitalResource  2022-09-14 23:30:09.481      M  ...             11   \n",
       "2  DigitalResource  2022-09-14 23:30:09.604      M  ...             11   \n",
       "3  DigitalResource  2022-09-14 23:30:43.752      M  ...             11   \n",
       "4  DigitalResource  2022-09-14 23:30:43.883      M  ...             11   \n",
       "\n",
       "   day_24_status day_25_status day_26_status day_27_status day_28_status  \\\n",
       "0             11            44            44            44            44   \n",
       "1             11            44            44            44            44   \n",
       "2             11            44            44            44            44   \n",
       "3             11            44            44            44            44   \n",
       "4             11            44            44            44            44   \n",
       "\n",
       "  day_29_status day_30_status day_31_status change_date  \n",
       "0            44            44           999          25  \n",
       "1            44            44           999          25  \n",
       "2            44            44           999          25  \n",
       "3            44            44           999          25  \n",
       "4            44            44           999          25  \n",
       "\n",
       "[5 rows x 45 columns]"
      ]
     },
     "execution_count": 9,
     "metadata": {},
     "output_type": "execute_result"
    }
   ],
   "source": [
    "len(df) # 갯수 맞음\n",
    "df.head()"
   ]
  },
  {
   "cell_type": "code",
   "execution_count": null,
   "id": "7f9be8d0-6d9b-4067-a63f-a14e08011c80",
   "metadata": {},
   "outputs": [],
   "source": [
    "#### #@! 회귀 쓸때 중요특성도 확인 후 unique로 특성마다 값들이 많치 않으면 열삭제 예정"
   ]
  },
  {
   "cell_type": "markdown",
   "id": "0fce599b-5f64-4eaa-ac8d-c7f54aa9f831",
   "metadata": {},
   "source": [
    "### 1. 중요 특성 unique 종류 갯수 확인 ( 열 기준 )"
   ]
  },
  {
   "cell_type": "code",
   "execution_count": 21,
   "id": "86c750f1-247c-4110-9c22-40c9fcd35f61",
   "metadata": {
    "execution": {
     "iopub.execute_input": "2024-07-23T04:32:51.017300Z",
     "iopub.status.busy": "2024-07-23T04:32:51.017300Z",
     "iopub.status.idle": "2024-07-23T04:32:51.037310Z",
     "shell.execute_reply": "2024-07-23T04:32:51.037310Z",
     "shell.execute_reply.started": "2024-07-23T04:32:51.017300Z"
    },
    "scrolled": true
   },
   "outputs": [
    {
     "data": {
      "text/plain": [
       "30"
      ]
     },
     "execution_count": 21,
     "metadata": {},
     "output_type": "execute_result"
    }
   ],
   "source": [
    "# 회원고유ID\n",
    "df['userid'].unique() # 갯수.\n",
    "len(df['userid'].unique())"
   ]
  },
  {
   "cell_type": "code",
   "execution_count": 78,
   "id": "cefb8978-83df-4237-b48b-bc4b6d61d9eb",
   "metadata": {
    "execution": {
     "iopub.execute_input": "2024-07-23T07:16:43.024330Z",
     "iopub.status.busy": "2024-07-23T07:16:43.024330Z",
     "iopub.status.idle": "2024-07-23T07:16:43.029905Z",
     "shell.execute_reply": "2024-07-23T07:16:43.029905Z",
     "shell.execute_reply.started": "2024-07-23T07:16:43.024330Z"
    }
   },
   "outputs": [
    {
     "data": {
      "text/plain": [
       "33"
      ]
     },
     "execution_count": 78,
     "metadata": {},
     "output_type": "execute_result"
    }
   ],
   "source": [
    "# 학습순서\n",
    "df['learning_seq'].unique()\n",
    "len(df['learning_seq'].unique())"
   ]
  },
  {
   "cell_type": "code",
   "execution_count": 23,
   "id": "d250de10-d2f7-403c-936b-15088846251e",
   "metadata": {
    "execution": {
     "iopub.execute_input": "2024-07-23T05:12:26.646066Z",
     "iopub.status.busy": "2024-07-23T05:12:26.646066Z",
     "iopub.status.idle": "2024-07-23T05:12:26.664065Z",
     "shell.execute_reply": "2024-07-23T05:12:26.664065Z",
     "shell.execute_reply.started": "2024-07-23T05:12:26.646066Z"
    }
   },
   "outputs": [
    {
     "name": "stdout",
     "output_type": "stream",
     "text": [
      "ks\n"
     ]
    }
   ],
   "source": [
    "print('ks')"
   ]
  },
  {
   "cell_type": "code",
   "execution_count": 17,
   "id": "a160dbc1-e9ca-45ad-908c-4a2fbf3829e0",
   "metadata": {
    "execution": {
     "iopub.execute_input": "2024-07-23T04:30:35.535789Z",
     "iopub.status.busy": "2024-07-23T04:30:35.534790Z",
     "iopub.status.idle": "2024-07-23T04:30:35.539830Z",
     "shell.execute_reply": "2024-07-23T04:30:35.539830Z",
     "shell.execute_reply.started": "2024-07-23T04:30:35.534790Z"
    },
    "scrolled": true
   },
   "outputs": [
    {
     "data": {
      "text/plain": [
       "205"
      ]
     },
     "execution_count": 17,
     "metadata": {},
     "output_type": "execute_result"
    }
   ],
   "source": [
    "# 콘텐츠고유ID (mcode)\n",
    "len(df['mcode'].unique())"
   ]
  },
  {
   "cell_type": "code",
   "execution_count": 22,
   "id": "ddef6e69-8685-4542-8143-fe2d879e3b6a",
   "metadata": {
    "execution": {
     "iopub.execute_input": "2024-07-23T04:33:01.073994Z",
     "iopub.status.busy": "2024-07-23T04:33:01.072997Z",
     "iopub.status.idle": "2024-07-23T04:33:01.080993Z",
     "shell.execute_reply": "2024-07-23T04:33:01.080993Z",
     "shell.execute_reply.started": "2024-07-23T04:33:01.073994Z"
    }
   },
   "outputs": [
    {
     "data": {
      "text/plain": [
       "147"
      ]
     },
     "execution_count": 22,
     "metadata": {},
     "output_type": "execute_result"
    }
   ],
   "source": [
    "# 학습 중 행동순서\n",
    "df['learning_action_seq'].unique() \n",
    "len(df['learning_action_seq'].unique())"
   ]
  },
  {
   "cell_type": "code",
   "execution_count": 59,
   "id": "0bbd5191-db9f-4d59-b8c8-2dd357286548",
   "metadata": {
    "execution": {
     "iopub.execute_input": "2024-07-23T05:31:59.405645Z",
     "iopub.status.busy": "2024-07-23T05:31:59.404649Z",
     "iopub.status.idle": "2024-07-23T05:31:59.413156Z",
     "shell.execute_reply": "2024-07-23T05:31:59.413156Z",
     "shell.execute_reply.started": "2024-07-23T05:31:59.405645Z"
    }
   },
   "outputs": [
    {
     "data": {
      "text/plain": [
       "array(['ViewEvent', 'NavigationEvent', 'MediaEvent'], dtype=object)"
      ]
     },
     "execution_count": 59,
     "metadata": {},
     "output_type": "execute_result"
    }
   ],
   "source": [
    "# 이벤트 유형\n",
    "len(df['event_type'].unique())\n",
    "df['event_type'].unique()"
   ]
  },
  {
   "cell_type": "code",
   "execution_count": 58,
   "id": "a84b5585-82a9-4ef0-ac50-054a6dc53db6",
   "metadata": {
    "execution": {
     "iopub.execute_input": "2024-07-23T05:31:52.891773Z",
     "iopub.status.busy": "2024-07-23T05:31:52.891773Z",
     "iopub.status.idle": "2024-07-23T05:31:52.905976Z",
     "shell.execute_reply": "2024-07-23T05:31:52.905976Z",
     "shell.execute_reply.started": "2024-07-23T05:31:52.891773Z"
    }
   },
   "outputs": [
    {
     "data": {
      "text/plain": [
       "array(['Viewed', 'NavigatedTo', 'Started', 'JumpedTo', 'Ended',\n",
       "       'ChangedVolume', 'Restarted', 'ChangedSpeed', 'Paused', 'Resumed'],\n",
       "      dtype=object)"
      ]
     },
     "execution_count": 58,
     "metadata": {},
     "output_type": "execute_result"
    }
   ],
   "source": [
    "# 이벤트에 포함되는 행동 내용\n",
    "len(df['action'].unique())\n",
    "df['action'].unique()"
   ]
  },
  {
   "cell_type": "code",
   "execution_count": 57,
   "id": "787f32b2-fc24-47d9-869b-d1e471edfc61",
   "metadata": {
    "execution": {
     "iopub.execute_input": "2024-07-23T05:31:46.614625Z",
     "iopub.status.busy": "2024-07-23T05:31:46.613626Z",
     "iopub.status.idle": "2024-07-23T05:31:46.633036Z",
     "shell.execute_reply": "2024-07-23T05:31:46.633036Z",
     "shell.execute_reply.started": "2024-07-23T05:31:46.614625Z"
    }
   },
   "outputs": [
    {
     "data": {
      "text/plain": [
       "array(['DigitalResource', 'VideoObject', 'WebPage'], dtype=object)"
      ]
     },
     "execution_count": 57,
     "metadata": {},
     "output_type": "execute_result"
    }
   ],
   "source": [
    "# 활동 대상\n",
    "len(df['object_type'].unique())\n",
    "df['object_type'].unique()"
   ]
  },
  {
   "cell_type": "code",
   "execution_count": 28,
   "id": "6589d8f7-6f02-4fb0-846c-996ad270c170",
   "metadata": {
    "execution": {
     "iopub.execute_input": "2024-07-23T05:15:02.764595Z",
     "iopub.status.busy": "2024-07-23T05:15:02.763595Z",
     "iopub.status.idle": "2024-07-23T05:15:02.784521Z",
     "shell.execute_reply": "2024-07-23T05:15:02.784521Z",
     "shell.execute_reply.started": "2024-07-23T05:15:02.764595Z"
    }
   },
   "outputs": [
    {
     "data": {
      "text/plain": [
       "3916"
      ]
     },
     "execution_count": 28,
     "metadata": {},
     "output_type": "execute_result"
    }
   ],
   "source": [
    "# 해당 학습 중 행동이 발생한 시간\n",
    "len(df['timestamp'].unique())"
   ]
  },
  {
   "cell_type": "code",
   "execution_count": 56,
   "id": "bf135dcc-4bac-431d-af5f-51bcb36b2da8",
   "metadata": {
    "execution": {
     "iopub.execute_input": "2024-07-23T05:31:37.372540Z",
     "iopub.status.busy": "2024-07-23T05:31:37.371539Z",
     "iopub.status.idle": "2024-07-23T05:31:37.379721Z",
     "shell.execute_reply": "2024-07-23T05:31:37.379721Z",
     "shell.execute_reply.started": "2024-07-23T05:31:37.372540Z"
    }
   },
   "outputs": [
    {
     "data": {
      "text/plain": [
       "array(['M', 'F', 'X'], dtype=object)"
      ]
     },
     "execution_count": 56,
     "metadata": {},
     "output_type": "execute_result"
    }
   ],
   "source": [
    "len(df['gender'].unique())\n",
    "df['gender'].unique()"
   ]
  },
  {
   "cell_type": "code",
   "execution_count": 30,
   "id": "e648cd5e-1e82-47e1-98a9-a2eb95c2d0fb",
   "metadata": {
    "execution": {
     "iopub.execute_input": "2024-07-23T05:17:29.699378Z",
     "iopub.status.busy": "2024-07-23T05:17:29.699378Z",
     "iopub.status.idle": "2024-07-23T05:17:29.720882Z",
     "shell.execute_reply": "2024-07-23T05:17:29.719881Z",
     "shell.execute_reply.started": "2024-07-23T05:17:29.699378Z"
    }
   },
   "outputs": [
    {
     "data": {
      "text/plain": [
       "1"
      ]
     },
     "execution_count": 30,
     "metadata": {},
     "output_type": "execute_result"
    }
   ],
   "source": [
    "len(df['grade'].unique()) # 제외 5학년만 있음"
   ]
  },
  {
   "cell_type": "code",
   "execution_count": 76,
   "id": "06dcec1d-f8ff-4327-9be4-0b20ff9b0e34",
   "metadata": {
    "execution": {
     "iopub.execute_input": "2024-07-23T07:08:20.095361Z",
     "iopub.status.busy": "2024-07-23T07:08:20.095361Z",
     "iopub.status.idle": "2024-07-23T07:08:20.100217Z",
     "shell.execute_reply": "2024-07-23T07:08:20.100217Z",
     "shell.execute_reply.started": "2024-07-23T07:08:20.095361Z"
    }
   },
   "outputs": [
    {
     "data": {
      "text/plain": [
       "array([44], dtype=int64)"
      ]
     },
     "execution_count": 76,
     "metadata": {},
     "output_type": "execute_result"
    }
   ],
   "source": [
    "len(df['memberstatus'].unique()) # 제외\n",
    "df['memberstatus'].unique()"
   ]
  },
  {
   "cell_type": "code",
   "execution_count": 55,
   "id": "fd165ee5-5830-41e5-90f7-096d694b046d",
   "metadata": {
    "execution": {
     "iopub.execute_input": "2024-07-23T05:30:52.470746Z",
     "iopub.status.busy": "2024-07-23T05:30:52.470746Z",
     "iopub.status.idle": "2024-07-23T05:30:52.485582Z",
     "shell.execute_reply": "2024-07-23T05:30:52.485582Z",
     "shell.execute_reply.started": "2024-07-23T05:30:52.470746Z"
    }
   },
   "outputs": [
    {
     "data": {
      "text/plain": [
       "array(['11,44', '-,00,01,44', '00,01,44', '11,55,44', '-,02,01,44',\n",
       "       '00,11,44'], dtype=object)"
      ]
     },
     "execution_count": 55,
     "metadata": {},
     "output_type": "execute_result"
    }
   ],
   "source": [
    "len(df['memberstatus_change'].unique())\n",
    "df['memberstatus_change'].unique()"
   ]
  },
  {
   "cell_type": "code",
   "execution_count": 40,
   "id": "2574f690-0307-4484-a660-4dcfb09c4173",
   "metadata": {
    "execution": {
     "iopub.execute_input": "2024-07-23T05:20:22.619900Z",
     "iopub.status.busy": "2024-07-23T05:20:22.619900Z",
     "iopub.status.idle": "2024-07-23T05:20:22.632404Z",
     "shell.execute_reply": "2024-07-23T05:20:22.632404Z",
     "shell.execute_reply.started": "2024-07-23T05:20:22.619900Z"
    }
   },
   "outputs": [
    {
     "data": {
      "text/plain": [
       "array([999], dtype=int64)"
      ]
     },
     "execution_count": 40,
     "metadata": {},
     "output_type": "execute_result"
    }
   ],
   "source": [
    "len(df['day_01_status'].unique())\n",
    "df['day_31_status'].unique()\n",
    "# '11', '-', '00' 확인하기\n",
    "# day_05_status > '11', '-', '00', '02', '01'\n",
    "# day_31_status > 999 1개"
   ]
  },
  {
   "cell_type": "code",
   "execution_count": null,
   "id": "62d49d42-1281-4260-b146-336075cea8dd",
   "metadata": {},
   "outputs": [],
   "source": [
    "# 확인 전 day_01_status ~ day_30_status \n",
    "# day_31_status "
   ]
  },
  {
   "cell_type": "code",
   "execution_count": null,
   "id": "4040e1d6-a771-45d6-86ed-f23a1fef031d",
   "metadata": {},
   "outputs": [],
   "source": [
    "## 나누기 2. 데이터 전처리 #@!"
   ]
  },
  {
   "cell_type": "markdown",
   "id": "790fb407-f84a-4cf3-b907-4ed1f4a33e04",
   "metadata": {},
   "source": [
    "### 2. 결측치 확인 ( 행 기준 )"
   ]
  },
  {
   "cell_type": "code",
   "execution_count": 47,
   "id": "189f0033-e66c-43a5-820a-78e5b18f65dc",
   "metadata": {
    "execution": {
     "iopub.execute_input": "2024-07-23T05:22:49.709479Z",
     "iopub.status.busy": "2024-07-23T05:22:49.708479Z",
     "iopub.status.idle": "2024-07-23T05:22:49.715486Z",
     "shell.execute_reply": "2024-07-23T05:22:49.715486Z",
     "shell.execute_reply.started": "2024-07-23T05:22:49.709479Z"
    }
   },
   "outputs": [
    {
     "data": {
      "text/plain": [
       "6476"
      ]
     },
     "execution_count": 47,
     "metadata": {},
     "output_type": "execute_result"
    }
   ],
   "source": [
    "len(df['day_01_status'].dropna())"
   ]
  },
  {
   "cell_type": "code",
   "execution_count": 53,
   "id": "d7ad0d81-f526-4703-9183-0b79701479d4",
   "metadata": {
    "execution": {
     "iopub.execute_input": "2024-07-23T05:25:25.957364Z",
     "iopub.status.busy": "2024-07-23T05:25:25.956364Z",
     "iopub.status.idle": "2024-07-23T05:25:25.962560Z",
     "shell.execute_reply": "2024-07-23T05:25:25.962560Z",
     "shell.execute_reply.started": "2024-07-23T05:25:25.956364Z"
    }
   },
   "outputs": [
    {
     "data": {
      "text/plain": [
       "0       False\n",
       "1       False\n",
       "2       False\n",
       "3       False\n",
       "4       False\n",
       "        ...  \n",
       "6471     True\n",
       "6472     True\n",
       "6473     True\n",
       "6474     True\n",
       "6475     True\n",
       "Name: day_01_status, Length: 6476, dtype: bool"
      ]
     },
     "execution_count": 53,
     "metadata": {},
     "output_type": "execute_result"
    }
   ],
   "source": [
    "(df['day_01_status'] == '-') == True"
   ]
  },
  {
   "cell_type": "code",
   "execution_count": 54,
   "id": "6b297aad-f982-46d6-ade5-629ad3c911d8",
   "metadata": {
    "execution": {
     "iopub.execute_input": "2024-07-23T05:26:03.676152Z",
     "iopub.status.busy": "2024-07-23T05:26:03.675153Z",
     "iopub.status.idle": "2024-07-23T05:26:03.699064Z",
     "shell.execute_reply": "2024-07-23T05:26:03.699064Z",
     "shell.execute_reply.started": "2024-07-23T05:26:03.676152Z"
    },
    "scrolled": true
   },
   "outputs": [
    {
     "data": {
      "text/html": [
       "<div>\n",
       "<style scoped>\n",
       "    .dataframe tbody tr th:only-of-type {\n",
       "        vertical-align: middle;\n",
       "    }\n",
       "\n",
       "    .dataframe tbody tr th {\n",
       "        vertical-align: top;\n",
       "    }\n",
       "\n",
       "    .dataframe thead th {\n",
       "        text-align: right;\n",
       "    }\n",
       "</style>\n",
       "<table border=\"1\" class=\"dataframe\">\n",
       "  <thead>\n",
       "    <tr style=\"text-align: right;\">\n",
       "      <th></th>\n",
       "      <th>Unnamed: 0</th>\n",
       "      <th>userid</th>\n",
       "      <th>learning_seq</th>\n",
       "      <th>mcode</th>\n",
       "      <th>learning_action_seq</th>\n",
       "      <th>event_type</th>\n",
       "      <th>action</th>\n",
       "      <th>object_type</th>\n",
       "      <th>timestamp</th>\n",
       "      <th>gender</th>\n",
       "      <th>...</th>\n",
       "      <th>day_23_status</th>\n",
       "      <th>day_24_status</th>\n",
       "      <th>day_25_status</th>\n",
       "      <th>day_26_status</th>\n",
       "      <th>day_27_status</th>\n",
       "      <th>day_28_status</th>\n",
       "      <th>day_29_status</th>\n",
       "      <th>day_30_status</th>\n",
       "      <th>day_31_status</th>\n",
       "      <th>change_date</th>\n",
       "    </tr>\n",
       "  </thead>\n",
       "  <tbody>\n",
       "    <tr>\n",
       "      <th>46</th>\n",
       "      <td>3738</td>\n",
       "      <td>076bf224-16b8-48ca-b646-752a771b1dcc</td>\n",
       "      <td>1</td>\n",
       "      <td>T0UE90U11001</td>\n",
       "      <td>1</td>\n",
       "      <td>MediaEvent</td>\n",
       "      <td>Started</td>\n",
       "      <td>VideoObject</td>\n",
       "      <td>2022-09-16 16:42:48.588</td>\n",
       "      <td>M</td>\n",
       "      <td>...</td>\n",
       "      <td>1</td>\n",
       "      <td>1</td>\n",
       "      <td>1</td>\n",
       "      <td>1</td>\n",
       "      <td>44</td>\n",
       "      <td>44</td>\n",
       "      <td>44</td>\n",
       "      <td>44</td>\n",
       "      <td>999</td>\n",
       "      <td>27</td>\n",
       "    </tr>\n",
       "    <tr>\n",
       "      <th>47</th>\n",
       "      <td>3739</td>\n",
       "      <td>076bf224-16b8-48ca-b646-752a771b1dcc</td>\n",
       "      <td>1</td>\n",
       "      <td>T0UE90U11001</td>\n",
       "      <td>2</td>\n",
       "      <td>MediaEvent</td>\n",
       "      <td>Ended</td>\n",
       "      <td>VideoObject</td>\n",
       "      <td>2022-09-16 16:42:48.588</td>\n",
       "      <td>M</td>\n",
       "      <td>...</td>\n",
       "      <td>1</td>\n",
       "      <td>1</td>\n",
       "      <td>1</td>\n",
       "      <td>1</td>\n",
       "      <td>44</td>\n",
       "      <td>44</td>\n",
       "      <td>44</td>\n",
       "      <td>44</td>\n",
       "      <td>999</td>\n",
       "      <td>27</td>\n",
       "    </tr>\n",
       "    <tr>\n",
       "      <th>48</th>\n",
       "      <td>3740</td>\n",
       "      <td>076bf224-16b8-48ca-b646-752a771b1dcc</td>\n",
       "      <td>1</td>\n",
       "      <td>T0UE90U11001</td>\n",
       "      <td>3</td>\n",
       "      <td>MediaEvent</td>\n",
       "      <td>Started</td>\n",
       "      <td>VideoObject</td>\n",
       "      <td>2022-09-16 16:42:57.430</td>\n",
       "      <td>M</td>\n",
       "      <td>...</td>\n",
       "      <td>1</td>\n",
       "      <td>1</td>\n",
       "      <td>1</td>\n",
       "      <td>1</td>\n",
       "      <td>44</td>\n",
       "      <td>44</td>\n",
       "      <td>44</td>\n",
       "      <td>44</td>\n",
       "      <td>999</td>\n",
       "      <td>27</td>\n",
       "    </tr>\n",
       "    <tr>\n",
       "      <th>49</th>\n",
       "      <td>3636</td>\n",
       "      <td>076bf224-16b8-48ca-b646-752a771b1dcc</td>\n",
       "      <td>2</td>\n",
       "      <td>T9EE51U71001</td>\n",
       "      <td>1</td>\n",
       "      <td>ViewEvent</td>\n",
       "      <td>Viewed</td>\n",
       "      <td>DigitalResource</td>\n",
       "      <td>2022-09-16 16:46:27.645</td>\n",
       "      <td>M</td>\n",
       "      <td>...</td>\n",
       "      <td>1</td>\n",
       "      <td>1</td>\n",
       "      <td>1</td>\n",
       "      <td>1</td>\n",
       "      <td>44</td>\n",
       "      <td>44</td>\n",
       "      <td>44</td>\n",
       "      <td>44</td>\n",
       "      <td>999</td>\n",
       "      <td>27</td>\n",
       "    </tr>\n",
       "    <tr>\n",
       "      <th>50</th>\n",
       "      <td>3637</td>\n",
       "      <td>076bf224-16b8-48ca-b646-752a771b1dcc</td>\n",
       "      <td>2</td>\n",
       "      <td>T9EE51U71001</td>\n",
       "      <td>2</td>\n",
       "      <td>NavigationEvent</td>\n",
       "      <td>NavigatedTo</td>\n",
       "      <td>DigitalResource</td>\n",
       "      <td>2022-09-16 16:46:38.271</td>\n",
       "      <td>M</td>\n",
       "      <td>...</td>\n",
       "      <td>1</td>\n",
       "      <td>1</td>\n",
       "      <td>1</td>\n",
       "      <td>1</td>\n",
       "      <td>44</td>\n",
       "      <td>44</td>\n",
       "      <td>44</td>\n",
       "      <td>44</td>\n",
       "      <td>999</td>\n",
       "      <td>27</td>\n",
       "    </tr>\n",
       "    <tr>\n",
       "      <th>...</th>\n",
       "      <td>...</td>\n",
       "      <td>...</td>\n",
       "      <td>...</td>\n",
       "      <td>...</td>\n",
       "      <td>...</td>\n",
       "      <td>...</td>\n",
       "      <td>...</td>\n",
       "      <td>...</td>\n",
       "      <td>...</td>\n",
       "      <td>...</td>\n",
       "      <td>...</td>\n",
       "      <td>...</td>\n",
       "      <td>...</td>\n",
       "      <td>...</td>\n",
       "      <td>...</td>\n",
       "      <td>...</td>\n",
       "      <td>...</td>\n",
       "      <td>...</td>\n",
       "      <td>...</td>\n",
       "      <td>...</td>\n",
       "      <td>...</td>\n",
       "    </tr>\n",
       "    <tr>\n",
       "      <th>6471</th>\n",
       "      <td>3081</td>\n",
       "      <td>f157a6f8-c680-42bf-8b48-03744367f7b1</td>\n",
       "      <td>2</td>\n",
       "      <td>T0NE52U10001</td>\n",
       "      <td>35</td>\n",
       "      <td>ViewEvent</td>\n",
       "      <td>Viewed</td>\n",
       "      <td>DigitalResource</td>\n",
       "      <td>2022-09-21 10:26:18.026</td>\n",
       "      <td>M</td>\n",
       "      <td>...</td>\n",
       "      <td>1</td>\n",
       "      <td>1</td>\n",
       "      <td>1</td>\n",
       "      <td>1</td>\n",
       "      <td>44</td>\n",
       "      <td>44</td>\n",
       "      <td>44</td>\n",
       "      <td>44</td>\n",
       "      <td>999</td>\n",
       "      <td>27</td>\n",
       "    </tr>\n",
       "    <tr>\n",
       "      <th>6472</th>\n",
       "      <td>3082</td>\n",
       "      <td>f157a6f8-c680-42bf-8b48-03744367f7b1</td>\n",
       "      <td>2</td>\n",
       "      <td>T0NE52U10001</td>\n",
       "      <td>36</td>\n",
       "      <td>NavigationEvent</td>\n",
       "      <td>NavigatedTo</td>\n",
       "      <td>DigitalResource</td>\n",
       "      <td>2022-09-21 10:26:18.280</td>\n",
       "      <td>M</td>\n",
       "      <td>...</td>\n",
       "      <td>1</td>\n",
       "      <td>1</td>\n",
       "      <td>1</td>\n",
       "      <td>1</td>\n",
       "      <td>44</td>\n",
       "      <td>44</td>\n",
       "      <td>44</td>\n",
       "      <td>44</td>\n",
       "      <td>999</td>\n",
       "      <td>27</td>\n",
       "    </tr>\n",
       "    <tr>\n",
       "      <th>6473</th>\n",
       "      <td>3083</td>\n",
       "      <td>f157a6f8-c680-42bf-8b48-03744367f7b1</td>\n",
       "      <td>2</td>\n",
       "      <td>T0NE52U10001</td>\n",
       "      <td>37</td>\n",
       "      <td>ViewEvent</td>\n",
       "      <td>Viewed</td>\n",
       "      <td>DigitalResource</td>\n",
       "      <td>2022-09-21 10:26:18.366</td>\n",
       "      <td>M</td>\n",
       "      <td>...</td>\n",
       "      <td>1</td>\n",
       "      <td>1</td>\n",
       "      <td>1</td>\n",
       "      <td>1</td>\n",
       "      <td>44</td>\n",
       "      <td>44</td>\n",
       "      <td>44</td>\n",
       "      <td>44</td>\n",
       "      <td>999</td>\n",
       "      <td>27</td>\n",
       "    </tr>\n",
       "    <tr>\n",
       "      <th>6474</th>\n",
       "      <td>3084</td>\n",
       "      <td>f157a6f8-c680-42bf-8b48-03744367f7b1</td>\n",
       "      <td>2</td>\n",
       "      <td>T0NE52U10001</td>\n",
       "      <td>38</td>\n",
       "      <td>NavigationEvent</td>\n",
       "      <td>NavigatedTo</td>\n",
       "      <td>DigitalResource</td>\n",
       "      <td>2022-09-21 10:26:40.089</td>\n",
       "      <td>M</td>\n",
       "      <td>...</td>\n",
       "      <td>1</td>\n",
       "      <td>1</td>\n",
       "      <td>1</td>\n",
       "      <td>1</td>\n",
       "      <td>44</td>\n",
       "      <td>44</td>\n",
       "      <td>44</td>\n",
       "      <td>44</td>\n",
       "      <td>999</td>\n",
       "      <td>27</td>\n",
       "    </tr>\n",
       "    <tr>\n",
       "      <th>6475</th>\n",
       "      <td>3085</td>\n",
       "      <td>f157a6f8-c680-42bf-8b48-03744367f7b1</td>\n",
       "      <td>2</td>\n",
       "      <td>T0NE52U10001</td>\n",
       "      <td>39</td>\n",
       "      <td>ViewEvent</td>\n",
       "      <td>Viewed</td>\n",
       "      <td>DigitalResource</td>\n",
       "      <td>2022-09-21 10:26:40.484</td>\n",
       "      <td>M</td>\n",
       "      <td>...</td>\n",
       "      <td>1</td>\n",
       "      <td>1</td>\n",
       "      <td>1</td>\n",
       "      <td>1</td>\n",
       "      <td>44</td>\n",
       "      <td>44</td>\n",
       "      <td>44</td>\n",
       "      <td>44</td>\n",
       "      <td>999</td>\n",
       "      <td>27</td>\n",
       "    </tr>\n",
       "  </tbody>\n",
       "</table>\n",
       "<p>1600 rows × 45 columns</p>\n",
       "</div>"
      ],
      "text/plain": [
       "      Unnamed: 0                                userid  learning_seq  \\\n",
       "46          3738  076bf224-16b8-48ca-b646-752a771b1dcc             1   \n",
       "47          3739  076bf224-16b8-48ca-b646-752a771b1dcc             1   \n",
       "48          3740  076bf224-16b8-48ca-b646-752a771b1dcc             1   \n",
       "49          3636  076bf224-16b8-48ca-b646-752a771b1dcc             2   \n",
       "50          3637  076bf224-16b8-48ca-b646-752a771b1dcc             2   \n",
       "...          ...                                   ...           ...   \n",
       "6471        3081  f157a6f8-c680-42bf-8b48-03744367f7b1             2   \n",
       "6472        3082  f157a6f8-c680-42bf-8b48-03744367f7b1             2   \n",
       "6473        3083  f157a6f8-c680-42bf-8b48-03744367f7b1             2   \n",
       "6474        3084  f157a6f8-c680-42bf-8b48-03744367f7b1             2   \n",
       "6475        3085  f157a6f8-c680-42bf-8b48-03744367f7b1             2   \n",
       "\n",
       "             mcode  learning_action_seq       event_type       action  \\\n",
       "46    T0UE90U11001                    1       MediaEvent      Started   \n",
       "47    T0UE90U11001                    2       MediaEvent        Ended   \n",
       "48    T0UE90U11001                    3       MediaEvent      Started   \n",
       "49    T9EE51U71001                    1        ViewEvent       Viewed   \n",
       "50    T9EE51U71001                    2  NavigationEvent  NavigatedTo   \n",
       "...            ...                  ...              ...          ...   \n",
       "6471  T0NE52U10001                   35        ViewEvent       Viewed   \n",
       "6472  T0NE52U10001                   36  NavigationEvent  NavigatedTo   \n",
       "6473  T0NE52U10001                   37        ViewEvent       Viewed   \n",
       "6474  T0NE52U10001                   38  NavigationEvent  NavigatedTo   \n",
       "6475  T0NE52U10001                   39        ViewEvent       Viewed   \n",
       "\n",
       "          object_type                timestamp gender  ...  day_23_status  \\\n",
       "46        VideoObject  2022-09-16 16:42:48.588      M  ...              1   \n",
       "47        VideoObject  2022-09-16 16:42:48.588      M  ...              1   \n",
       "48        VideoObject  2022-09-16 16:42:57.430      M  ...              1   \n",
       "49    DigitalResource  2022-09-16 16:46:27.645      M  ...              1   \n",
       "50    DigitalResource  2022-09-16 16:46:38.271      M  ...              1   \n",
       "...               ...                      ...    ...  ...            ...   \n",
       "6471  DigitalResource  2022-09-21 10:26:18.026      M  ...              1   \n",
       "6472  DigitalResource  2022-09-21 10:26:18.280      M  ...              1   \n",
       "6473  DigitalResource  2022-09-21 10:26:18.366      M  ...              1   \n",
       "6474  DigitalResource  2022-09-21 10:26:40.089      M  ...              1   \n",
       "6475  DigitalResource  2022-09-21 10:26:40.484      M  ...              1   \n",
       "\n",
       "      day_24_status day_25_status day_26_status day_27_status day_28_status  \\\n",
       "46                1             1             1            44            44   \n",
       "47                1             1             1            44            44   \n",
       "48                1             1             1            44            44   \n",
       "49                1             1             1            44            44   \n",
       "50                1             1             1            44            44   \n",
       "...             ...           ...           ...           ...           ...   \n",
       "6471              1             1             1            44            44   \n",
       "6472              1             1             1            44            44   \n",
       "6473              1             1             1            44            44   \n",
       "6474              1             1             1            44            44   \n",
       "6475              1             1             1            44            44   \n",
       "\n",
       "     day_29_status day_30_status day_31_status change_date  \n",
       "46              44            44           999          27  \n",
       "47              44            44           999          27  \n",
       "48              44            44           999          27  \n",
       "49              44            44           999          27  \n",
       "50              44            44           999          27  \n",
       "...            ...           ...           ...         ...  \n",
       "6471            44            44           999          27  \n",
       "6472            44            44           999          27  \n",
       "6473            44            44           999          27  \n",
       "6474            44            44           999          27  \n",
       "6475            44            44           999          27  \n",
       "\n",
       "[1600 rows x 45 columns]"
      ]
     },
     "execution_count": 54,
     "metadata": {},
     "output_type": "execute_result"
    }
   ],
   "source": [
    "# '-' day_01_status 말고 다른 특성에도 하이픈이 있는데 하이픈을 없애면 총 6476개에서 1600개로 데이터 손실이 너무 크다.\n",
    "df[df['day_01_status'] == '-'] "
   ]
  },
  {
   "cell_type": "code",
   "execution_count": 75,
   "id": "8fc5bb1b-b40a-4c22-b1a3-5e50bb76079e",
   "metadata": {
    "execution": {
     "iopub.execute_input": "2024-07-23T05:43:47.696480Z",
     "iopub.status.busy": "2024-07-23T05:43:47.696480Z",
     "iopub.status.idle": "2024-07-23T05:43:47.728531Z",
     "shell.execute_reply": "2024-07-23T05:43:47.728531Z",
     "shell.execute_reply.started": "2024-07-23T05:43:47.696480Z"
    }
   },
   "outputs": [
    {
     "data": {
      "text/plain": [
       "True"
      ]
     },
     "execution_count": 75,
     "metadata": {},
     "output_type": "execute_result"
    }
   ],
   "source": [
    "# 컬럼별 하이픈 위 결과로 의미 없음\n",
    "[df['day_01_status'] == 'null']"
   ]
  },
  {
   "cell_type": "code",
   "execution_count": 74,
   "id": "02a774d8-68e9-4072-a800-7f34699116bb",
   "metadata": {
    "execution": {
     "iopub.execute_input": "2024-07-23T05:43:16.663955Z",
     "iopub.status.busy": "2024-07-23T05:43:16.663955Z",
     "iopub.status.idle": "2024-07-23T05:43:16.693833Z",
     "shell.execute_reply": "2024-07-23T05:43:16.693833Z",
     "shell.execute_reply.started": "2024-07-23T05:43:16.663955Z"
    }
   },
   "outputs": [
    {
     "data": {
      "text/plain": [
       "True"
      ]
     },
     "execution_count": 74,
     "metadata": {},
     "output_type": "execute_result"
    }
   ],
   "source": [
    "# 전체에서 null or NaN or '' 값 찾기\n",
    "(df == '').any().any() # False 없다\n",
    "(df == 'null').any().any() # False 없다\n",
    "(df == 'NaN').any().any() # False 없다\n",
    "(df == '-').any().any() # True 있다"
   ]
  },
  {
   "cell_type": "code",
   "execution_count": null,
   "id": "46d889a6-a949-46f0-89d5-8c3689a02872",
   "metadata": {},
   "outputs": [],
   "source": []
  },
  {
   "cell_type": "code",
   "execution_count": null,
   "id": "fbf32956-249d-44f6-8a41-f71d44cb10fa",
   "metadata": {},
   "outputs": [],
   "source": []
  },
  {
   "cell_type": "code",
   "execution_count": null,
   "id": "439cec99-b3eb-4f50-bb44-6761f6334a04",
   "metadata": {},
   "outputs": [],
   "source": []
  },
  {
   "cell_type": "code",
   "execution_count": null,
   "id": "69718978-5185-4ed5-89d4-54122b60bc41",
   "metadata": {},
   "outputs": [],
   "source": []
  },
  {
   "cell_type": "code",
   "execution_count": null,
   "id": "0b3cd941-5e1d-466d-ac09-812c914a7848",
   "metadata": {},
   "outputs": [],
   "source": []
  },
  {
   "cell_type": "code",
   "execution_count": null,
   "id": "f90bef75-0509-400d-9263-080df69cf385",
   "metadata": {},
   "outputs": [],
   "source": []
  },
  {
   "cell_type": "code",
   "execution_count": null,
   "id": "cbb9bfc3-b4f4-4e22-99bb-80f4e2d53e39",
   "metadata": {},
   "outputs": [],
   "source": []
  },
  {
   "cell_type": "code",
   "execution_count": null,
   "id": "8ff15e40-4553-4244-b65d-b46f55c99856",
   "metadata": {},
   "outputs": [],
   "source": []
  },
  {
   "cell_type": "code",
   "execution_count": null,
   "id": "0435f4d1-58ce-45cc-b3af-d81ca05b26e9",
   "metadata": {},
   "outputs": [],
   "source": []
  },
  {
   "cell_type": "code",
   "execution_count": null,
   "id": "170fc70c-5a79-4a6d-883d-74a07eaa481d",
   "metadata": {},
   "outputs": [],
   "source": []
  }
 ],
 "metadata": {
  "kernelspec": {
   "display_name": "Python 3 (ipykernel)",
   "language": "python",
   "name": "python3"
  },
  "language_info": {
   "codemirror_mode": {
    "name": "ipython",
    "version": 3
   },
   "file_extension": ".py",
   "mimetype": "text/x-python",
   "name": "python",
   "nbconvert_exporter": "python",
   "pygments_lexer": "ipython3",
   "version": "3.10.8"
  }
 },
 "nbformat": 4,
 "nbformat_minor": 5
}
